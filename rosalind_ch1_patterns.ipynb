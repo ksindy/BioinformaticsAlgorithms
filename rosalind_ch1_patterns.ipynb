{
 "cells": [
  {
   "cell_type": "markdown",
   "metadata": {},
   "source": [
    "## BA1A Compute the Number of Times a Pattern Appears in a Text\n",
    "\n",
    "*Given: {DNA strings}} Text and Pattern.*\n",
    "\n",
    "*Return: Count(Text, Pattern).*"
   ]
  },
  {
   "cell_type": "code",
   "execution_count": 1,
   "metadata": {
    "collapsed": true
   },
   "outputs": [],
   "source": [
    "open_input = open('pattern_count_input.txt')\n",
    "text = open_input.read().rstrip().replace(\" \", \"\")\n",
    "pattern = \"CGGCGGGAGAT\"\n",
    "\n",
    "from timeit import timeit\n",
    "\n",
    "def pattern_count_one(text, pattern):\n",
    "    count = 0\n",
    "    for i, nucleotide in enumerate(text):\n",
    "        if text[i:i+len(pattern)] == pattern:\n",
    "            count += 1\n",
    "    return (count)\n",
    "#pattern_count_one:47.08834998100065\n",
    "#3\n",
    "\n",
    "def pattern_count_two(text, pattern):\n",
    "    return (text.count(pattern))\n",
    "#pattern_count_two:0.8119574589945842\n",
    "#3\n",
    "\n",
    "print (\"pattern_count_one:{}\".format(timeit(\n",
    "                                    \"pattern_count_one(text, pattern)\",\n",
    "                                    \"from __main__ import pattern_count_one;\"\n",
    "                                    \"text='TGATTCCGGCGGGCGTGGAGAAGCGAGATTCATTCAAGCCGGGAGGCGTGGCGTGGCGTGGCGTGCGGATTCAAGCCGGCGGG';\" \n",
    "                                    \"pattern='TTCCGG' \")))\n",
    "\n",
    "print (\"pattern_count_two:{}\".format(timeit(\n",
    "                                    \"pattern_count_two(text, pattern)\",\n",
    "                                    \"from __main__ import pattern_count_two;\"\n",
    "                                    \"text='TGATTCCGGCGGGCGTGGAGAAGCGAGATTCATTCAAGCCGGGAGGCGTGGCGTGGCGTGGCGTGCGGATTCAAGCCGGCGGG';\"\n",
    "                                    \"pattern='TTCCGG' \")))"
   ]
  },
  {
   "cell_type": "markdown",
   "metadata": {},
   "source": [
    "R/Biostrings solution from rosalind site"
   ]
  },
  {
   "cell_type": "code",
   "execution_count": null,
   "metadata": {
    "collapsed": true
   },
   "outputs": [],
   "source": [
    "library(Biostrings);\n",
    "data <- readLines(\"input.txt\");\n",
    "text <- data[1];\n",
    "pattern <- data[2];\n",
    "length(matchPattern(pattern,text));"
   ]
  },
  {
   "cell_type": "markdown",
   "metadata": {},
   "source": [
    "## BA1B Find the Most Frequent k-mers in a String\n",
    "\n",
    "*Find the most frequent k-mers in a string.*\n",
    "\n",
    "*Given: A DNA string Text and an integer k.*\n",
    "\n",
    "*Return: All most frequent k-mers in Text (in any order).*"
   ]
  },
  {
   "cell_type": "code",
   "execution_count": 3,
   "metadata": {
    "collapsed": true
   },
   "outputs": [],
   "source": [
    "open_input = open('pattern_count_input.txt')\n",
    "text = open_input.read().rstrip().replace(\" \", \"\")\n",
    "len_kmer = 12\n",
    "\n",
    "def frequent_kmers(text, len_kmer):\n",
    "    dict_kmer = {}\n",
    "    most_frequent_kmers = []\n",
    "    for i, nucleotide in enumerate(text):\n",
    "    #this loop will define kmer\n",
    "    #i = 0, then +1 until last possible kmer can be made (length of text - length of kmer)\n",
    "        kmer = ((text[i:i+len_kmer]))\n",
    "        if not kmer in dict_kmer:\n",
    "            dict_kmer[kmer] = 1\n",
    "        else:\n",
    "            dict_kmer[kmer] += 1\n",
    "    for key, value in dict_kmer.items():\n",
    "       max_value = dict_kmer.get(max(dict_kmer, key=dict_kmer.get))\n",
    "       if value == max_value:\n",
    "            most_frequent_kmers.append(key)\n",
    "    return (most_frequent_kmers)\n",
    "\n",
    "frequent_kmers(text, len_kmer)"
   ]
  },
  {
   "cell_type": "markdown",
   "metadata": {},
   "source": [
    "R solution from rosalind site"
   ]
  },
  {
   "cell_type": "code",
   "execution_count": null,
   "metadata": {
    "collapsed": true
   },
   "outputs": [],
   "source": [
    "data <- readLines(\"input.txt\");\n",
    "text <- data[1];\n",
    "k <- as.numeric(data[2]);\n",
    "kmerCounts <- table(substring(text,1:(nchar(text)-k+1),k:nchar(text)));\n",
    "cat(names(kmerCounts)[kmerCounts == max(kmerCounts)],fill=TRUE);"
   ]
  },
  {
   "cell_type": "markdown",
   "metadata": {},
   "source": [
    "## Problem ID: BA1C Find the Reverse Complement of a String"
   ]
  },
  {
   "cell_type": "code",
   "execution_count": null,
   "metadata": {
    "collapsed": true
   },
   "outputs": [],
   "source": [
    "open_input = open('pattern_count_input.txt')\n",
    "text = open_input.read().rstrip().replace(\" \", \"\")\n",
    "from timeit import timeit\n",
    "from Bio.Seq import Seq\n",
    "\n",
    "def reverse_complement_one(text):\n",
    "    text = text.upper().replace(' ','')\n",
    "    dict_basepair = {'G':'C', 'C':'G', 'A':'T', 'T':'A'}\n",
    "    reverse_complement_string = ''\n",
    "    for i, nucleotide in enumerate(text):\n",
    "        basepair = (text[((i+1)*-1)+len(text)])\n",
    "        if dict_basepair.get(basepair):\n",
    "            reverse_complement_string += dict_basepair.get(basepair)\n",
    "    return(reverse_complement_string)\n",
    "\n",
    "def reverse_complement_two(text):\n",
    "    text = text.upper().replace(' ','')\n",
    "    dict_basepair = {'G':'C', 'C':'G', 'A':'T', 'T':'A'}\n",
    "    reverse = (text[::-1])\n",
    "    reverse_complement_string = ''\n",
    "    for i in reverse:\n",
    "        if dict_basepair.get(i):\n",
    "            reverse_complement_string += dict_basepair.get(i)\n",
    "    return(reverse_complement_string)\n",
    "\n",
    "def reverse_complement_three(text):\n",
    "    text = text.upper().replace(' ','')\n",
    "    dict_basepair = {'G':'C', 'C':'G', 'A':'T', 'T':'A'}\n",
    "    reverse_complement_string = ''\n",
    "    for nucleotide in reversed(text):\n",
    "        if dict_basepair.get(nucleotide):\n",
    "            reverse_complement_string += dict_basepair.get(nucleotide)\n",
    "    return (reverse_complement_string)\n",
    "\n",
    "def reverse_complement_four(text):\n",
    "    text = text[::-1].upper().replace(' ','')\n",
    "    reverse_complement_text = text.translate(str.maketrans('ACGT','TGCA'))\n",
    "    return reverse_complement_text\n",
    "\n",
    "\n",
    "def reverse_complement_biopython(text):\n",
    "    sequence = Seq(text)\n",
    "    reverse_complement_sequence = Seq.reverse_complement(sequence)\n",
    "    return(reverse_complement_sequence)\n",
    "\n",
    "\n",
    "\n",
    "print (\"reverse_complement_one:{}\".format(timeit(\n",
    "                                    \"reverse_complement_one(text)\",\n",
    "                                    \"from __main__ import reverse_complement_one;\"\n",
    "                                    \"text='A@GG GTTAG--TGACCAGCT! AG'\")))\n",
    "print (\"reverse_complement_two:{}\".format(timeit(\n",
    "                                    \"reverse_complement_two(text)\",\n",
    "                                    \"from __main__ import reverse_complement_two;\"\n",
    "                                    \"text = 'A@GG GTTAG--TGACCAGCT! AG'\")))\n",
    "print (\"reverse_complement_three:{}\".format(timeit(\n",
    "                                    \"reverse_complement_three(text)\",\n",
    "                                    \"from __main__ import reverse_complement_three;\"\n",
    "                                    \"text = 'A@GG GTTAG--TGACCAGCT! AG'\")))\n",
    "print (\"reverse_complement_four:{}\".format(timeit(\n",
    "                                    \"reverse_complement_four(text)\",\n",
    "                                    \"from __main__ import reverse_complement_four;\"\n",
    "                                    \"text = 'A@GG GTTAG--TGACCAGCT! AG'\")))\n",
    "print (\"reverse_complement_biopython:{}\".format(timeit(\n",
    "                                    \"reverse_complement_biopython(text)\",\n",
    "                                    \"from __main__ import reverse_complement_biopython;\"\n",
    "                                    \"text = 'A@GG GTTAG--TGACCAGCT! AG'\")))\n",
    "\n",
    "\n",
    "print(reverse_complement_one(text))\n",
    "print(reverse_complement_two(text))\n",
    "print(reverse_complement_three(text))\n",
    "print(reverse_complement_four(text))\n",
    "print(reverse_complement_biopython(text))"
   ]
  },
  {
   "cell_type": "markdown",
   "metadata": {},
   "source": [
    "R solution from rosalind site"
   ]
  },
  {
   "cell_type": "code",
   "execution_count": null,
   "metadata": {
    "collapsed": true
   },
   "outputs": [],
   "source": [
    "pattern <- readLines(\"input.txt\");\n",
    "cat(chartr(\"ACGT\",\"TGCA\",reverse(pattern)), fill=TRUE);"
   ]
  },
  {
   "cell_type": "markdown",
   "metadata": {},
   "source": [
    "## BA1D Find All Occurrences of a Pattern in a String\n",
    "\n",
    "*Given: Strings Pattern and Genome.*\n",
    "\n",
    "*Return: All starting positions in Genome where Pattern appears as a substring. Use 0-based indexing.*\n"
   ]
  },
  {
   "cell_type": "code",
   "execution_count": 1,
   "metadata": {
    "collapsed": false
   },
   "outputs": [
    {
     "data": {
      "text/plain": [
       "['25', '130', '210', '333']"
      ]
     },
     "execution_count": 1,
     "metadata": {},
     "output_type": "execute_result"
    }
   ],
   "source": [
    "open_input = open('pattern_count_input.txt')\n",
    "text = open_input.read().rstrip().replace(\" \", \"\")\n",
    "pattern = \"CGGCGGGAGAT\"\n",
    "\n",
    "from timeit import timeit\n",
    "import re\n",
    "\n",
    "\n",
    "def pattern_find_one(text, pattern):\n",
    "    list = []\n",
    "    for i, nucleotide in enumerate(text):\n",
    "        if text[i:i+len(pattern)] == pattern:\n",
    "            list.append(i)\n",
    "    return (list)\n",
    "# pattern_find_one:41.1288166979939\n",
    "# [215, 257, 361]\n",
    "\n",
    "\n",
    "def pattern_find_two(text,pattern):\n",
    "    matches = re.finditer('(?={0})'.format(pattern),text)\n",
    "    positions = [str(match.start()) for match in matches]\n",
    "    result = ' '.join(positions)\n",
    "    return(result)\n",
    "#pattern_find_two:15.497524202990462\n",
    "#215 257 361\n",
    "\n",
    "\n",
    "def pattern_find_three(text,pattern):\n",
    "    results = []\n",
    "    regex_pattern = re.compile('(?={0})'.format(pattern))\n",
    "    matches = regex_pattern.finditer(text)\n",
    "    for match in matches:\n",
    "        results.append(match.start())\n",
    "    return(results)\n",
    "# pattern_find_three:11.731942209997214\n",
    "# [215, 257, 361]\n",
    "\n",
    "\n",
    "print (\"pattern_find_one:{}\".format(timeit(\n",
    "                                    \"pattern_find_one(text, pattern)\",\n",
    "                                    \"from __main__ import pattern_find_one;\"\n",
    "                                    \"text='TGATTCCGGCGGGCGTGGAGAAGCGAGATTCATTCAAGCCGGGAGGCGTGGCGTGGCGTGGCGTGCGGATTCAAGCCGGCGGG';\"\n",
    "                                    \"pattern='TTCCGG' \")))\n",
    "\n",
    "print (\"pattern_find_two:{}\".format(timeit(\n",
    "                                    \"pattern_find_two(text, pattern)\",\n",
    "                                    \"from __main__ import pattern_find_two;\"\n",
    "                                    \"text='TGATTCCGGCGGGCGTGGAGAAGCGAGATTCATTCAAGCCGGGAGGCGTGGCGTGGCGTGGCGTGCGGATTCAAGCCGGCGGG';\"\n",
    "                                    \"pattern='TTCCGG' \")))\n",
    "\n",
    "print (\"pattern_find_three:{}\".format(timeit(\n",
    "                                    \"pattern_find_three(text, pattern)\",\n",
    "                                    \"from __main__ import pattern_find_three;\"\n",
    "                                    \"text='TGATTCCGGCGGGCGTGGAGAAGCGAGATTCATTCAAGCCGGGAGGCGTGGCGTGGCGTGGCGTGCGGATTCAAGCCGGCGGG';\"\n",
    "                                    \"pattern='TTCCGG' \")))"
   ]
  },
  {
   "cell_type": "markdown",
   "metadata": {},
   "source": [
    "R solution from rosalind site"
   ]
  },
  {
   "cell_type": "code",
   "execution_count": null,
   "metadata": {
    "collapsed": true
   },
   "outputs": [],
   "source": [
    "myfile = read.table(\"rosalind_ba1d.txt\")\n",
    "\n",
    "pattern <- myfile[1,1]\n",
    "genome <- myfile[2,1]\n",
    "\n",
    "locations <- gregexpr(paste(\"(?=\", pattern, \")\", sep = \"\"), genome, perl = T)\n",
    "\n",
    "as.numeric(locations[[1]] - 1)"
   ]
  },
  {
   "cell_type": "markdown",
   "metadata": {},
   "source": [
    "## Problem ID: BA1E Find Patterns Forming Clumps in a String\n",
    "\n",
    "*Given: A string Genome, and integers k, L, and t.*\n",
    "\n",
    "*Return: All distinct k-mers forming (L, t)-clumps in Genome.*"
   ]
  },
  {
   "cell_type": "code",
   "execution_count": 1,
   "metadata": {
    "collapsed": true
   },
   "outputs": [],
   "source": [
    "open_genome = open('genome.txt')\n",
    "genome = open_genome.read().rstrip().replace(\" \", \"\")\n",
    "\n",
    "def ClumpFinding (genome, k, L, t):\n",
    "    dict_kmer = {}\n",
    "    \n",
    "    for i in range((L)-(k-1)):\n",
    "        kmer = ((genome[i:i+k]))\n",
    "        if kmer not in dict_kmer:\n",
    "            dict_kmer[kmer] = 1\n",
    "        else:\n",
    "            dict_kmer[kmer] += 1\n",
    "    matches = ([key for key,value in dict_kmer.items() if value >= t])\n",
    "    x = set(matches)\n",
    "    \n",
    "    for i in range(len(genome)-(L+1)):\n",
    "        first_kmer = genome[i+1:i+1+k]\n",
    "        if first_kmer in dict_kmer:\n",
    "            dict_kmer[first_kmer] -= 1\n",
    "        last_kmer = genome[i+(L-k):i+(L)]\n",
    "        if last_kmer not in dict_kmer:\n",
    "            dict_kmer[last_kmer] = 1\n",
    "        else:\n",
    "            dict_kmer[last_kmer] += 1\n",
    "            matches = ([key for key,value in dict_kmer.items() if value >= t])\n",
    "            x.update(matches)\n",
    "    \n",
    "    return(x)\n",
    "\n",
    "ClumpFinding(genome, 12, 497, 19)"
   ]
  },
  {
   "cell_type": "markdown",
   "metadata": {},
   "source": [
    "R solution from rosalind site"
   ]
  },
  {
   "cell_type": "code",
   "execution_count": null,
   "metadata": {
    "collapsed": true
   },
   "outputs": [],
   "source": [
    "dna <- readLines(\"rosalind_ba1e.txt\", n = 1)\n",
    "\n",
    "nums <- read.table(\"rosalind_ba1e.txt\", skip = 1)\n",
    "\n",
    "kmer <- function(x, y){\n",
    "  return (substring(x, seq(1, (nchar(x)-y)+1), seq(y, nchar(x))))\n",
    "}\n",
    "\n",
    "myclumps <- kmer(dna, nums[[2]])\n",
    "\n",
    "kmer.freqs <- lapply(myclumps, function(x){(kmer(x, nums[[1]]))})\n",
    "\n",
    "kmer.freqs <- lapply(kmer.freqs, function(x){as.matrix(table(x))})\n",
    "\n",
    "locations <- lapply(kmer.freqs, function(x){which(x == nums[[3]])})\n",
    "\n",
    "x <- 1\n",
    "output <- c()\n",
    "\n",
    "for (i in 1:length(locations)){\n",
    "  for (j in locations[[i]]){\n",
    "    if (length(locations[[i]]) > 0){\n",
    "    output[x] <- (names(kmer.freqs[[i]][j,1]))\n",
    "    x <- x + 1\n",
    "    }\n",
    "  }\n",
    "}\n",
    "\n",
    "names(table(output))"
   ]
  },
  {
   "cell_type": "markdown",
   "metadata": {},
   "source": [
    "## Find a Position in a Genome Minimizing the Skew\n",
    "\n",
    "*Given: A DNA string Genome.*\n",
    "\n",
    "*Return: All integer(s) i minimizing Skew(Prefixi (Text)) over all values of i (from 0 to |Genome|).*"
   ]
  },
  {
   "cell_type": "code",
   "execution_count": null,
   "metadata": {
    "collapsed": true
   },
   "outputs": [],
   "source": [
    "open_input = open('pattern_count_input.txt')\n",
    "text = open_input.read().rstrip().replace(\" \", \"\")\n",
    "\n",
    "\n",
    "def minimum_skew(text):\n",
    "    skew = 0\n",
    "    skew_minimum = 0\n",
    "    location = []\n",
    "    for i, nucleotide in enumerate(text):\n",
    "        if nucleotide == \"G\":\n",
    "            skew += 1\n",
    "        if nucleotide == \"C\":\n",
    "            skew -= 1\n",
    "        if skew < skew_minimum:\n",
    "            skew_minimum = skew\n",
    "            location.clear()\n",
    "            location.append(i+1)\n",
    "        elif skew == skew_minimum:\n",
    "            location.append(i+1)\n",
    "    return(location)\n",
    "\n",
    "minimum_skew(text)\n",
    "#minimum_skew(text):7.974709301000985\n",
    "\n",
    "from timeit import timeit\n",
    "def minimumSkews (text):\n",
    "    skews = [0]\n",
    "    values = {'A':0,'T':0,'C':-1,'G':1,}\n",
    "    for base in text:\n",
    "        skews.append(skews[-1] + values[base])\n",
    "        #[-1] accesses last value in list and adds dict value to it\n",
    "    minimum = min(skews)\n",
    "    indices = [str(i) for i, v in enumerate(skews) if v == minimum]\n",
    "    return ' '.join(indices)\n",
    "\n",
    "minimumSkews(text)\n",
    "#minimumSkews(text):8.857545922001009\n",
    "\n",
    "\n",
    "print (\"minimum_skew(text):{}\".format(timeit(\n",
    "                                    \"minimum_skew(text)\",\n",
    "                                    \"from __main__ import minimum_skew;\"\n",
    "                                    \"text='ACGGTTAGGACTGCGTGAAAGCCATACCCATGACAGACACGAACCAGAGTGGGGGAGGCCTGCTGGAGGGTCTGCACTCCAGAATACAGTCTTCTTAAGTAGACGAAAGGTACCTACTAAGACCTTTCGTAGCGACTACTTTTTTACGCGTCTGGCGTGAGTAGATCTTACACGCTCGTAATCCTACCTAATTGCCTGCTGATAGTCCGGTCTTCCACCGGCCGTAGGCAGCCAACGAAACTTGCTCATTAACACTAGTAAGTCACTGATTATAGTCATCATGTCGGGAATTCTCGATGACTAAATTACTGGTTTTACGCCGTTGAGACCGTGCACCCGAGGGCGCCTCGCAAAAGGTTACTTGTTTAGGTGCGGTTGTCTAGACCAAAAGACCACGCAAACAAACGAGTAACCAGAGCAACTGATCTCATGAGATGATCCGCAGGAATCACACCATAGCCTCTGCTGCGCGAACTTACGGTTCCTTTACAGACGTAAGCTTGGAGCAGACCTGTGAATGAACTCATTATGATCTAGGGCAGTGGGAGTAAGGCCGGTTTCAGTACCGGTAAAGCGGTGACCCCAGGGCATATTCCCGTAAGCACGAGGAATATGCTTCAAGCGCGCTGTTTTGCCCTGGTGCGAACGGGGTCAGCAACGAATATGCTAGCAACCGCCGTGGCGCGTCTATAAGTGTGTCATATTCGATGGGGCGGAAAACATTCCAACGACGCTACTAAGTGATCGAACGCCGCCTCTAGTCCTGGACTGAGGGCCCGGTCTCTGGAATCAATCGATCCCCCCTTAAATATCCGCTCGGCCCAGAGCAGATCGGTACGCCTACAGGGACACATCATCAAATGCCCTGATGTTCAAACGGACAGCAAGCTTACTTGGAAGTGAATTCACCTTAGCCGACAACTCGAAATTCGACGTCGTCAATGGGGCCGCGCCAGCCCTAACGAAATAACGGGAGACTCCGATAACGTAATTCCCAGGTGACCCCGTGGACGCTGTAACGTTGTTACCTGGGGACCTGGTGACAGATTGAGCGGATCACATGCGAAGCAGGCTGGTGTTGTATGCTAACGTGTACAGGACGGATTACAACATCTATCTTCCTGACGTAGTGGGTGACAAGACTCAATTGTGTTGCTCCTACCAGTCAGTTCTTGTGTTAGCTTGTAGTGAGGGTGCAGTCCCCTTGGTGGAACTAGTTTCCGGTGACGTGGTACGACTCGAAGGTTTGTACTTGGAACTAACGTTAGATGATGATCCGTCTGGCCAGGGAGACGATAAAACTAGAATAGTATCCGTCTCTCATATTAGGGCCCTGACGCTGAAACATACGCCGGTGAGGGGACGCACTCAGACGCTTCTAGAGAAATATTACAACTGCATGCACCCGAGCCAGTTCCCCTACTACGATCTGTTTTCTGGTCTACATCGGCCCGGCATTTTAAAGAGTAGAACAAAGTAAATTCACGCTAGTAAAACCGAAACAGCATACGTTAGGTGCGTAGTGATGCGATCGACGAGAGGGTGCACCGCCTATACGCCTAATTCCGATCAACCCAATATGTCAAAGTTTGTCTTAGCAACCCTGAATAAGATAGGAACCTCAGCCCATTACAGAGTGGCGACTACATTAGACTAATAAGTGCGTTCCTGGAAAATATTGGGTGTCCGTCGAGAGCGAACCACTAATAACGGACCACCCCTACTCGTCGGTAAGTGGACTGCAATCGCTGC'\"\n",
    "                                    , number =10000)))\n",
    "\n",
    "print (\"minimumSkews(text):{}\".format(timeit(\n",
    "                                    \"minimumSkews(text)\",\n",
    "                                    \"from __main__ import minimumSkews;\"\n",
    "                                    \"text='ACGGTTAGGACTGCGTGAAAGCCATACCCATGACAGACACGAACCAGAGTGGGGGAGGCCTGCTGGAGGGTCTGCACTCCAGAATACAGTCTTCTTAAGTAGACGAAAGGTACCTACTAAGACCTTTCGTAGCGACTACTTTTTTACGCGTCTGGCGTGAGTAGATCTTACACGCTCGTAATCCTACCTAATTGCCTGCTGATAGTCCGGTCTTCCACCGGCCGTAGGCAGCCAACGAAACTTGCTCATTAACACTAGTAAGTCACTGATTATAGTCATCATGTCGGGAATTCTCGATGACTAAATTACTGGTTTTACGCCGTTGAGACCGTGCACCCGAGGGCGCCTCGCAAAAGGTTACTTGTTTAGGTGCGGTTGTCTAGACCAAAAGACCACGCAAACAAACGAGTAACCAGAGCAACTGATCTCATGAGATGATCCGCAGGAATCACACCATAGCCTCTGCTGCGCGAACTTACGGTTCCTTTACAGACGTAAGCTTGGAGCAGACCTGTGAATGAACTCATTATGATCTAGGGCAGTGGGAGTAAGGCCGGTTTCAGTACCGGTAAAGCGGTGACCCCAGGGCATATTCCCGTAAGCACGAGGAATATGCTTCAAGCGCGCTGTTTTGCCCTGGTGCGAACGGGGTCAGCAACGAATATGCTAGCAACCGCCGTGGCGCGTCTATAAGTGTGTCATATTCGATGGGGCGGAAAACATTCCAACGACGCTACTAAGTGATCGAACGCCGCCTCTAGTCCTGGACTGAGGGCCCGGTCTCTGGAATCAATCGATCCCCCCTTAAATATCCGCTCGGCCCAGAGCAGATCGGTACGCCTACAGGGACACATCATCAAATGCCCTGATGTTCAAACGGACAGCAAGCTTACTTGGAAGTGAATTCACCTTAGCCGACAACTCGAAATTCGACGTCGTCAATGGGGCCGCGCCAGCCCTAACGAAATAACGGGAGACTCCGATAACGTAATTCCCAGGTGACCCCGTGGACGCTGTAACGTTGTTACCTGGGGACCTGGTGACAGATTGAGCGGATCACATGCGAAGCAGGCTGGTGTTGTATGCTAACGTGTACAGGACGGATTACAACATCTATCTTCCTGACGTAGTGGGTGACAAGACTCAATTGTGTTGCTCCTACCAGTCAGTTCTTGTGTTAGCTTGTAGTGAGGGTGCAGTCCCCTTGGTGGAACTAGTTTCCGGTGACGTGGTACGACTCGAAGGTTTGTACTTGGAACTAACGTTAGATGATGATCCGTCTGGCCAGGGAGACGATAAAACTAGAATAGTATCCGTCTCTCATATTAGGGCCCTGACGCTGAAACATACGCCGGTGAGGGGACGCACTCAGACGCTTCTAGAGAAATATTACAACTGCATGCACCCGAGCCAGTTCCCCTACTACGATCTGTTTTCTGGTCTACATCGGCCCGGCATTTTAAAGAGTAGAACAAAGTAAATTCACGCTAGTAAAACCGAAACAGCATACGTTAGGTGCGTAGTGATGCGATCGACGAGAGGGTGCACCGCCTATACGCCTAATTCCGATCAACCCAATATGTCAAAGTTTGTCTTAGCAACCCTGAATAAGATAGGAACCTCAGCCCATTACAGAGTGGCGACTACATTAGACTAATAAGTGCGTTCCTGGAAAATATTGGGTGTCCGTCGAGAGCGAACCACTAATAACGGACCACCCCTACTCGTCGGTAAGTGGACTGCAATCGCTGC'\"\n",
    "                                    , number =10000)))"
   ]
  },
  {
   "cell_type": "markdown",
   "metadata": {},
   "source": [
    "R solution from rosalind site"
   ]
  },
  {
   "cell_type": "code",
   "execution_count": null,
   "metadata": {
    "collapsed": true
   },
   "outputs": [],
   "source": [
    "library(seqinr)\n",
    "\n",
    "nt.test <- function(x){\n",
    "  if (x == \"C\"){return (-1)}\n",
    "  if (x == \"G\"){return (1)}\n",
    "  if (x == \"A\" | x == \"T\"){ return (0)}\n",
    "}\n",
    "\n",
    "genome <- s2c(readLines(\"rosalind_ba1f.txt\"))\n",
    "\n",
    "vals <- as.numeric(lapply(genome, nt.test))\n",
    "skew <- matrix(0)\n",
    "\n",
    "for (i in 1:length(vals)){\n",
    "  skew[i] <- sum(vals[1:i])\n",
    "}\n",
    "\n",
    "which(skew %in% min(skew)) - 1"
   ]
  },
  {
   "cell_type": "markdown",
   "metadata": {},
   "source": [
    "## Compute the Hamming Distance Between Two Strings\n",
    "\n",
    "*Given: Two DNA strings.*\n",
    "\n",
    "*Return: An integer value representing the Hamming distance.*"
   ]
  },
  {
   "cell_type": "code",
   "execution_count": null,
   "metadata": {
    "collapsed": true
   },
   "outputs": [],
   "source": [
    "open_input = open('pattern_count_input.txt')\n",
    "text = open_input.read().rstrip().replace(\" \", \"\")\n",
    "string1 = \"AAAGGCTTTCTGTCCCAGGCCGCATCGCGAATATCGGAACCCCACATGGCCCAATTTTGGACTCTGCAGGAGTTCATATCCTCTGGCCCATATCGATCCCGCTTGGGAGGCATTCGTCCCGTGTAATTCTTTTTTCGGTGACTTCGCCGCAAATAGCATGGTGCCGAATGCCTCTTGATCTTATGCGCCTAATTAGAGTCTGATGGACTGGGATCGCTAATCGTTTTCAGGTGAGCCAAGGACATTTGTCCGTTGTGATCTGAATATCCGGCGATCATATGATGTCTGGTCACATAGTCGTTGCGGCTCCTATAACACGAGGGAACGAGGCAGATGTTTTGGGGTCCCAACGAAGAGTTCGGTTCTAACGTGACAGCGAGGTAGCCCATAATAATTAAAGTAGCTTCATAGCTTCGTTAGACTCGGGCAGAAGCCTGAAGCCCGTCCTGAATCTCATCTAGGCTTACAGTAAGGTCACCGGCGGTCTCTCGTAAAAGTCAAGTCATTATTGTTTCAATGCAAGTCACTACCCCTGAGCTGGTGTGGGGTCCGCAACCAGATTAATCCGAACCCTAAGCACGCTCTCTACTTTGTCTCACTGGCGCAGGAAATTTGGGTTTTCTCTTCAGGCACTGGGTCCGCGATGTTGCTCGCCCGCCTTAGGTTCTCTGGGCCCCGGCGTGGGATTCCGCACAATAAATGAGGCGGCGTCTTTTTGTGAGGACCTCCGACAGGCACTCTAAGTCACCAACGTTTTCCCGAGACTTGTCCCCAACGTTCATCAAAGTGGATCAGACCACTGGGCAACACGATTGCGACGTATATAGAAATCCGTACGACGAGAGCAATAGAACTCGAAGAGCTATGGCCAGGCTAATCGAACTACGCGTTACTAGCTTACGGACCAGGGACAGAAGAACTTGCACGCGATTAGAGGGATTCACCTAAGTAGATAGCTTTGTGGGGATTAGCAAGGATGATTAACACTGGAACCCGGACTTTTTTAGTACCAACAGTCAAATGGGCAGTAGTCTCCCGTCCATATCTGTAATCATGACCGATGAATATGTACGGTTGATTGAATC\"\n",
    "string2 = \"AGCATTATTGATTGTCCGTTTCTGCAGATAGCTTGATCAGCCATGCAACGGGGACGTGTCATCGTGCCTCGCATCCATGAACGTATAACGCCTGGCGGTTTATCGGGGGAAGTAAGAAACGTCGGATTTGGACATGTGCCCCAAAAGTCAACCGTACCGACGATTGTATCACGTGATTACGAGTCGTCACCACGTATGCGGATTACTCGTGCCATACTATATATCAACTTTCTTTCATAGCAGTATGCTACATAATACCTAATCCGAATCTATAGTACGTGACTGGCCTTGCTATAGTCGAGTATACCGATTCCCACGGCCTTGTTTACCACTACTACTCCGTGCTACCTCCCCCCTCATTGTAGGCATATCGGTACCTGGACCAAGATGGCTCAAATGCAGCAAGCCAACTCGCAATCTATGTGTCAGATGGCCCTTTATCGGGGATTGGGTGCGCGACTCGGAGACCACCAAAGAAAGATTCTCGGTAAACACTCGCAGTTAAGGGTTTTAGAGTGACCTGGTTAGAAGCGGTCCCACGTTAAGTTCAGTGTTGGCGGGACGCCCTACTATTCGGTAGACTTCTTAGTTTCCCGGGCCTGTTCGCATTGATGCTCGGGCCCCTCAAGGACGCGCGAGGGACCTCTGGGATCGACTTTATCGGAGTACTGCCGCGTAGCTTGGCGAATCTGGACGCCGATACACTCCTGCTCGCAGTTAGATGTCTGACGTTAGCGCGGTGGCATGCATACGGCTTGTCCATGACATCTCAGGGTATGCTTGCCTCTGTTGGAGCGCTAGGGGGTAGAGTACTGGCAGATGTCAAAGATTAAGTTCCATTATGAACTAATCTTGCAGTGGCTGGTTTTAGTTATATGGATGCTTATCTGTGGTAAAGACTTTTTGGTCACCCCCGGCACTCTCTTAAGATTTTTACACGCAAGCAGTTGCGATCCTAGAGCCAGCTCGGCAGACTATGTAGAAACATCCACAACGTTCATCAACGTAAATGGCTCGCCAGCTACACGTTTAGTTAGATGGCTGATTTGACTGATGGGACCGATGCCTTCCGGATCATATCAAGG\"\n",
    "\n",
    "from timeit import timeit\n",
    "\n",
    "def hamming_distance (string1, string2):\n",
    "    hamming_distance = 0\n",
    "    for (nucleotide1, nucleotide2) in zip(string1, string2):\n",
    "        if nucleotide1 != nucleotide2:\n",
    "            hamming_distance += 1\n",
    "    return(hamming_distance)\n",
    "hamming_distance(string1, string2)\n",
    "#hamming_distance (string1, string2):2.5374410490039736\n",
    "\n",
    "def HammingDistance (string1, string2):\n",
    "    distance = sum(1 for i, j in zip(string1, string2) if i != j)\n",
    "    return(distance)\n",
    "HammingDistance(string1, string2)\n",
    "#HammingDistance(string1, string2):2.791293404996395\n",
    "\n",
    "def hammingDistance(string1, string2):\n",
    "    dist = 0\n",
    "    for i in range(len(string1)):\n",
    "        if string1[i] != string2[i]:\n",
    "            dist += 1\n",
    "    return(dist)\n",
    "hammingDistance(string1, string2)\n",
    "#hammingDistance(string1, string2):3.781247588995029\n",
    "\n",
    "\n",
    "print (\"hamming_distance (string1, string2):{}\".format(timeit(\n",
    "                                    \"hamming_distance (string1, string2)\",\n",
    "                                    \"from __main__ import hamming_distance;\"\n",
    "                                    \"string1 = 'CCGAAGCAATTGAAACCCCCCCGGCCTGGGAGGCGCAAAAATCTGACCTCTTTGTGAGTTGACCACTTAATTTATGTCTGACCACGAGAAGGGCTACTGATTTGGTACGTCGGGTCATGACCCCCAGTTCTTAGCCGCCTGCTCCAATCTCTGACTTGTTTATCGAGGGGATGGAGTAACGAAATGCGATTCGCCCGCTCAGGCCAAGGTATATATTTGAGTAGCGGAAGGTTGCACTACCTACAACCACGGCACACCGGCACGTTGTCGTGCCCTGGCGGCCTGCGCACTTTCGCCACTGTCAAGTACGACTTCCCAAGCTCAACCAACATTCATAATCCGGTGCAATTCATACCGTATCATCGTGCTATAAGCGACGCCGATTCTCGGGGCCTGATAATTGAGACTGGACTACATAGTGGGTGCCCTCTCTGCGAGTAAGTGACGGAACAACGGAGATCAGGGACCAAATGGTAGCAAAACAGATCGAGGTACACGCAGGTAGCTGTCCGTGGAGTAGACCGCGCTTAGCGTCTGTTAGAGTATCATCGGGGTATTAGACACAGGAACCTCTATGCTGTTAAAAGGCCATACCCCGTAATTGTGCAAATTTGTTACGTTCAAATCTACGCAGTGAGGGTCCTAAGGTGATGGCAGGGATTGGAACTTCTCCGCTGGCTCTTAGATTACTTAGCCAGTCTACCCTCGAAGATACAAATCCTTCCACCAGAGGGAGCTCATTGAAATTCATTCCATGCTACTCGACCGCGCGTATGGGTGCGGGGCTCTATGGGATCTAACTCGATCCTTCAGAGTCCTTATTCAAATGCATTTCCGTCCCCGTATGTTTCGACGAAGCCGAAGCCCAAACCCTGGGATGGACGAATTAAGGACAGTACAGGCAATAGTGTTCTCCCATACTCGGAACAGACGCCTCATTTTTTCGCGAAATCGATCTGGGTTGGAAGAAGTTCCAGTGCAGAGTTCCTATCACACAATTCGTTCTCGGGGCTTCCGGCCCATAAGCGATACTACTGTCTTTGCGAGCTAACGATTACATTCGGGGGAACTTAGCTCGGACTGGACCAGGTACATGATCCAAAGCGCGATGTCTGTCTGTTACCCTCACCGCCGCTCTTTTATCGGGTA';\"\n",
    "                                    \"string2 = 'GCGTAGTAGGTTCGCGTACCTAGTTCCGCCGAAAAGACAAAGGAGAAGGGAATGCTCCTAGTAGTTTCAGTCTAGCAAACATGTTATAACGCTAACTGTGTGCTGCAAAAAGGATTTGAACCCAAATTTTAAAGCGCTGATCGACAGAACGCTGTTGAAGAGGCGATGGTACTGAGATTCCCCAGAAACCACCTCCGCGCTATGTGCTCAAGACAACCCGCATTCGTTTTTACTAGATTTGGAGCCGAGTTGTGATTTGGATATTTTCACATAAGACCGAGCAGGAAATATACCTTGTTGCAGCTATTGACCCCGTTCTCTCGGAAATCCATGGAATAGTCTTCGGATATTCGTACCAATGGGCGCGATGTTGCGATAAGAGAGCACATTTCATTAAGTGGTGCTCCGCCGCTAAGATGGGAAGGGGCGAGTCTATCGCAGCATCGAAGGCTGAGTTGGCCATTGCCGAGAGTATACATATTTACGATCACACTCGCATAGTCCCACGCATTACGTCCGAGATAGTATGTCCCAATGCAACCTAAAGCCGCGAGATTCCCTAAGGAGAAAATTAAACACTGGAAATTAGGTGATGCTACATCCCATGGACACTTTCGGAACAATATCGGTGACACACATCATCCGTGATCCCGTGATATTTCATCCATGGAGAGAGTATGGTTTTACTACACCTGGTCTAGGCCAAGCCTAACCCCCTGTTCATCCGTTTTATACGAGTATTACCTTGACGACCATAGAGGATAGACTCGGTATCCCGCACACTCTACACACACGACTTAATCCGCTCCACGACCTTCCTAGCGATCTTTGGCGCAGCCGGTTCGCGTATTTTACGACCAACTCGATGGATCCCAATTATCCCCCTGGTAGTGCCCCTCCGCCTGAGAATTCGACGGGCGAGGTCCGGGGGACCGACATAGAGTGGAATGCTTCTTTCCGGGATAACACGTGATTGACATAAAAATGTAGGGCAGATAGGCATCGTTAGCACCTCTCTCCTTGCTGCACTGCGTTTATCGATCGAATTCAAGACTTGTGCATGTTGAAAACAACCTCGCGTTATCCCTGCTATTTGCTTCAGAGCCGTAGGAGGGGACCATGCGTGAGTCCTCCTGAGCAACCTCAATT'\"\n",
    "                                    , number =10000)))\n",
    "\n",
    "print (\"HammingDistance(string1, string2):{}\".format(timeit(\n",
    "                                    \"HammingDistance(string1, string2)\",\n",
    "                                    \"from __main__ import HammingDistance;\"\n",
    "                                    \"string1 = 'CCGAAGCAATTGAAACCCCCCCGGCCTGGGAGGCGCAAAAATCTGACCTCTTTGTGAGTTGACCACTTAATTTATGTCTGACCACGAGAAGGGCTACTGATTTGGTACGTCGGGTCATGACCCCCAGTTCTTAGCCGCCTGCTCCAATCTCTGACTTGTTTATCGAGGGGATGGAGTAACGAAATGCGATTCGCCCGCTCAGGCCAAGGTATATATTTGAGTAGCGGAAGGTTGCACTACCTACAACCACGGCACACCGGCACGTTGTCGTGCCCTGGCGGCCTGCGCACTTTCGCCACTGTCAAGTACGACTTCCCAAGCTCAACCAACATTCATAATCCGGTGCAATTCATACCGTATCATCGTGCTATAAGCGACGCCGATTCTCGGGGCCTGATAATTGAGACTGGACTACATAGTGGGTGCCCTCTCTGCGAGTAAGTGACGGAACAACGGAGATCAGGGACCAAATGGTAGCAAAACAGATCGAGGTACACGCAGGTAGCTGTCCGTGGAGTAGACCGCGCTTAGCGTCTGTTAGAGTATCATCGGGGTATTAGACACAGGAACCTCTATGCTGTTAAAAGGCCATACCCCGTAATTGTGCAAATTTGTTACGTTCAAATCTACGCAGTGAGGGTCCTAAGGTGATGGCAGGGATTGGAACTTCTCCGCTGGCTCTTAGATTACTTAGCCAGTCTACCCTCGAAGATACAAATCCTTCCACCAGAGGGAGCTCATTGAAATTCATTCCATGCTACTCGACCGCGCGTATGGGTGCGGGGCTCTATGGGATCTAACTCGATCCTTCAGAGTCCTTATTCAAATGCATTTCCGTCCCCGTATGTTTCGACGAAGCCGAAGCCCAAACCCTGGGATGGACGAATTAAGGACAGTACAGGCAATAGTGTTCTCCCATACTCGGAACAGACGCCTCATTTTTTCGCGAAATCGATCTGGGTTGGAAGAAGTTCCAGTGCAGAGTTCCTATCACACAATTCGTTCTCGGGGCTTCCGGCCCATAAGCGATACTACTGTCTTTGCGAGCTAACGATTACATTCGGGGGAACTTAGCTCGGACTGGACCAGGTACATGATCCAAAGCGCGATGTCTGTCTGTTACCCTCACCGCCGCTCTTTTATCGGGTA';\"\n",
    "                                    \"string2 = 'GCGTAGTAGGTTCGCGTACCTAGTTCCGCCGAAAAGACAAAGGAGAAGGGAATGCTCCTAGTAGTTTCAGTCTAGCAAACATGTTATAACGCTAACTGTGTGCTGCAAAAAGGATTTGAACCCAAATTTTAAAGCGCTGATCGACAGAACGCTGTTGAAGAGGCGATGGTACTGAGATTCCCCAGAAACCACCTCCGCGCTATGTGCTCAAGACAACCCGCATTCGTTTTTACTAGATTTGGAGCCGAGTTGTGATTTGGATATTTTCACATAAGACCGAGCAGGAAATATACCTTGTTGCAGCTATTGACCCCGTTCTCTCGGAAATCCATGGAATAGTCTTCGGATATTCGTACCAATGGGCGCGATGTTGCGATAAGAGAGCACATTTCATTAAGTGGTGCTCCGCCGCTAAGATGGGAAGGGGCGAGTCTATCGCAGCATCGAAGGCTGAGTTGGCCATTGCCGAGAGTATACATATTTACGATCACACTCGCATAGTCCCACGCATTACGTCCGAGATAGTATGTCCCAATGCAACCTAAAGCCGCGAGATTCCCTAAGGAGAAAATTAAACACTGGAAATTAGGTGATGCTACATCCCATGGACACTTTCGGAACAATATCGGTGACACACATCATCCGTGATCCCGTGATATTTCATCCATGGAGAGAGTATGGTTTTACTACACCTGGTCTAGGCCAAGCCTAACCCCCTGTTCATCCGTTTTATACGAGTATTACCTTGACGACCATAGAGGATAGACTCGGTATCCCGCACACTCTACACACACGACTTAATCCGCTCCACGACCTTCCTAGCGATCTTTGGCGCAGCCGGTTCGCGTATTTTACGACCAACTCGATGGATCCCAATTATCCCCCTGGTAGTGCCCCTCCGCCTGAGAATTCGACGGGCGAGGTCCGGGGGACCGACATAGAGTGGAATGCTTCTTTCCGGGATAACACGTGATTGACATAAAAATGTAGGGCAGATAGGCATCGTTAGCACCTCTCTCCTTGCTGCACTGCGTTTATCGATCGAATTCAAGACTTGTGCATGTTGAAAACAACCTCGCGTTATCCCTGCTATTTGCTTCAGAGCCGTAGGAGGGGACCATGCGTGAGTCCTCCTGAGCAACCTCAATT'\"\n",
    "                                    , number =10000)))\n",
    "print (\"hammingDistance(string1, string2):{}\".format(timeit(\n",
    "                                    \"hammingDistance(string1, string2)\",\n",
    "                                    \"from __main__ import hammingDistance;\"\n",
    "                                    \"string1 = 'CCGAAGCAATTGAAACCCCCCCGGCCTGGGAGGCGCAAAAATCTGACCTCTTTGTGAGTTGACCACTTAATTTATGTCTGACCACGAGAAGGGCTACTGATTTGGTACGTCGGGTCATGACCCCCAGTTCTTAGCCGCCTGCTCCAATCTCTGACTTGTTTATCGAGGGGATGGAGTAACGAAATGCGATTCGCCCGCTCAGGCCAAGGTATATATTTGAGTAGCGGAAGGTTGCACTACCTACAACCACGGCACACCGGCACGTTGTCGTGCCCTGGCGGCCTGCGCACTTTCGCCACTGTCAAGTACGACTTCCCAAGCTCAACCAACATTCATAATCCGGTGCAATTCATACCGTATCATCGTGCTATAAGCGACGCCGATTCTCGGGGCCTGATAATTGAGACTGGACTACATAGTGGGTGCCCTCTCTGCGAGTAAGTGACGGAACAACGGAGATCAGGGACCAAATGGTAGCAAAACAGATCGAGGTACACGCAGGTAGCTGTCCGTGGAGTAGACCGCGCTTAGCGTCTGTTAGAGTATCATCGGGGTATTAGACACAGGAACCTCTATGCTGTTAAAAGGCCATACCCCGTAATTGTGCAAATTTGTTACGTTCAAATCTACGCAGTGAGGGTCCTAAGGTGATGGCAGGGATTGGAACTTCTCCGCTGGCTCTTAGATTACTTAGCCAGTCTACCCTCGAAGATACAAATCCTTCCACCAGAGGGAGCTCATTGAAATTCATTCCATGCTACTCGACCGCGCGTATGGGTGCGGGGCTCTATGGGATCTAACTCGATCCTTCAGAGTCCTTATTCAAATGCATTTCCGTCCCCGTATGTTTCGACGAAGCCGAAGCCCAAACCCTGGGATGGACGAATTAAGGACAGTACAGGCAATAGTGTTCTCCCATACTCGGAACAGACGCCTCATTTTTTCGCGAAATCGATCTGGGTTGGAAGAAGTTCCAGTGCAGAGTTCCTATCACACAATTCGTTCTCGGGGCTTCCGGCCCATAAGCGATACTACTGTCTTTGCGAGCTAACGATTACATTCGGGGGAACTTAGCTCGGACTGGACCAGGTACATGATCCAAAGCGCGATGTCTGTCTGTTACCCTCACCGCCGCTCTTTTATCGGGTA';\"\n",
    "                                    \"string2 = 'GCGTAGTAGGTTCGCGTACCTAGTTCCGCCGAAAAGACAAAGGAGAAGGGAATGCTCCTAGTAGTTTCAGTCTAGCAAACATGTTATAACGCTAACTGTGTGCTGCAAAAAGGATTTGAACCCAAATTTTAAAGCGCTGATCGACAGAACGCTGTTGAAGAGGCGATGGTACTGAGATTCCCCAGAAACCACCTCCGCGCTATGTGCTCAAGACAACCCGCATTCGTTTTTACTAGATTTGGAGCCGAGTTGTGATTTGGATATTTTCACATAAGACCGAGCAGGAAATATACCTTGTTGCAGCTATTGACCCCGTTCTCTCGGAAATCCATGGAATAGTCTTCGGATATTCGTACCAATGGGCGCGATGTTGCGATAAGAGAGCACATTTCATTAAGTGGTGCTCCGCCGCTAAGATGGGAAGGGGCGAGTCTATCGCAGCATCGAAGGCTGAGTTGGCCATTGCCGAGAGTATACATATTTACGATCACACTCGCATAGTCCCACGCATTACGTCCGAGATAGTATGTCCCAATGCAACCTAAAGCCGCGAGATTCCCTAAGGAGAAAATTAAACACTGGAAATTAGGTGATGCTACATCCCATGGACACTTTCGGAACAATATCGGTGACACACATCATCCGTGATCCCGTGATATTTCATCCATGGAGAGAGTATGGTTTTACTACACCTGGTCTAGGCCAAGCCTAACCCCCTGTTCATCCGTTTTATACGAGTATTACCTTGACGACCATAGAGGATAGACTCGGTATCCCGCACACTCTACACACACGACTTAATCCGCTCCACGACCTTCCTAGCGATCTTTGGCGCAGCCGGTTCGCGTATTTTACGACCAACTCGATGGATCCCAATTATCCCCCTGGTAGTGCCCCTCCGCCTGAGAATTCGACGGGCGAGGTCCGGGGGACCGACATAGAGTGGAATGCTTCTTTCCGGGATAACACGTGATTGACATAAAAATGTAGGGCAGATAGGCATCGTTAGCACCTCTCTCCTTGCTGCACTGCGTTTATCGATCGAATTCAAGACTTGTGCATGTTGAAAACAACCTCGCGTTATCCCTGCTATTTGCTTCAGAGCCGTAGGAGGGGACCATGCGTGAGTCCTCCTGAGCAACCTCAATT'\"\n",
    "                                    , number =10000)))"
   ]
  },
  {
   "cell_type": "markdown",
   "metadata": {},
   "source": [
    "R solution from rosalind site"
   ]
  },
  {
   "cell_type": "code",
   "execution_count": null,
   "metadata": {
    "collapsed": true
   },
   "outputs": [],
   "source": [
    "data <- readLines(\"input.txt\");\n",
    "p <- data[1];\n",
    "q <- data[2];\n",
    "sum(strsplit(p,\"\")[[1]] != strsplit(q,\"\")[[1]]);"
   ]
  },
  {
   "cell_type": "markdown",
   "metadata": {},
   "source": [
    "## Find All Approximate Occurrences of a Pattern in a String\n",
    "\n",
    "*Given: Strings Pattern and Text along with an integer d.*\n",
    "\n",
    "*Return: All starting positions where Pattern appears as a substring of Text with at most d mismatches.*"
   ]
  },
  {
   "cell_type": "code",
   "execution_count": null,
   "metadata": {
    "collapsed": true
   },
   "outputs": [],
   "source": [
    "open_input = open('pattern_count_input.txt')\n",
    "text = open_input.read().rstrip().replace(\" \", \"\")\n",
    "pattern = 'TCGGCAAAGGCA'\n",
    "max_mismatch = 5\n",
    "\n",
    "from timeit import timeit\n",
    "\n",
    "def mismatch (string1, string2):\n",
    "    mismatches = 0\n",
    "    for (nucleotide1, nucleotide2) in zip(string1, string2):\n",
    "        if nucleotide1 != nucleotide2:\n",
    "            mismatches += 1\n",
    "    return(mismatches)\n",
    "\n",
    "\n",
    "def approximate_patterns(text, pattern, max_mismatches):\n",
    "    pattern_matches = []\n",
    "    for i in range(len(text)-len(pattern)+1):\n",
    "        query_pattern = text[i:i+len(pattern)]\n",
    "        if mismatch(pattern, query_pattern) <= max_mismatch:\n",
    "            pattern_matches.append(i)\n",
    "    return(pattern_matches)\n",
    "#approximate_patterns (string1, string2):2.999821500998223\n",
    "print(approximate_patterns(text, pattern, max_mismatch))\n",
    "\n",
    "\n",
    "def approximate_patterns_2(text, pattern, max_mismatch):\n",
    "    dict_pattern = {}\n",
    "    pattern_matches = []\n",
    "    for i in range(len(text)-len(pattern)+1):\n",
    "        query_pattern = text[i:i+len(pattern)]\n",
    "        dict_pattern[query_pattern] = i\n",
    "        #print (query_pattern)\n",
    "        mismatch = 0\n",
    "        for base, query_base in zip(pattern, query_pattern):\n",
    "            if base != query_base:\n",
    "                mismatch += 1\n",
    "            if mismatch > max_mismatch:\n",
    "                dict_pattern[query_pattern] = -1\n",
    "    for key, value in dict_pattern.items():\n",
    "        if value >= 0:\n",
    "            pattern_matches.append(value)\n",
    "    return pattern_matches\n",
    "#approximate_patterns_2(string1, string2):3.721790987998247\n",
    "print(approximate_patterns_2(text, pattern, max_mismatch))\n",
    "\n",
    "def approximate_patterns_3(text, pattern, max_mismatch):\n",
    "    pattern_matches = []\n",
    "    for i in range(len(text)-len(pattern)+1):\n",
    "        query_pattern = text[i:i+len(pattern)]\n",
    "        #print (query_pattern)\n",
    "        mismatch = 0\n",
    "        for base, query_base in zip(pattern, query_pattern):\n",
    "            if base != query_base:\n",
    "                mismatch += 1\n",
    "            # if mismatch > max_mismatch:\n",
    "            #     break\n",
    "            # this if statment made the script 1sec longer but may be advantagous for larger data\n",
    "        if mismatch <= max_mismatch:\n",
    "            pattern_matches.append(i)\n",
    "    return pattern_matches\n",
    "#approximate_patterns_3(string1, string2):2.7667044499976328\n",
    "print(approximate_patterns_3(text, pattern, max_mismatch))\n",
    "\n",
    "\n",
    "print (\"approximate_patterns (string1, string2):{}\".format(timeit(\n",
    "                                    \"approximate_patterns (text, pattern, max_mismatch)\",\n",
    "                                    \"from __main__ import approximate_patterns;\"\n",
    "                                    \"text = 'CGCCCGAATCCAGAACGCATTCCCATATTTCGGGACCACTGGCCTCCACGGTACGGACGTCAATCAAATGCCTAGCGGCTTGTGGTTTCTCCTACGCTCC';\"\n",
    "                                    \"pattern = 'ATTCTGGA';\"\n",
    "                                    \"max_mismatch = 5\"\n",
    "                                    , number =10000)))\n",
    "\n",
    "print (\"approximate_patterns_2(string1, string2):{}\".format(timeit(\n",
    "                                    \"approximate_patterns_2(text, pattern, max_mismatch)\",\n",
    "                                    \"from __main__ import approximate_patterns_2;\"\n",
    "                                    \"text = 'CGCCCGAATCCAGAACGCATTCCCATATTTCGGGACCACTGGCCTCCACGGTACGGACGTCAATCAAATGCCTAGCGGCTTGTGGTTTCTCCTACGCTCC';\"\n",
    "                                    \"pattern = 'ATTCTGGA';\"\n",
    "                                    \"max_mismatch = 5\"\n",
    "                                    , number =10000)))\n",
    "\n",
    "print (\"approximate_patterns_3(string1, string2):{}\".format(timeit(\n",
    "                                    \"approximate_patterns_3(text, pattern, max_mismatch)\",\n",
    "                                    \"from __main__ import approximate_patterns_3;\"\n",
    "                                    \"text = 'CGCCCGAATCCAGAACGCATTCCCATATTTCGGGACCACTGGCCTCCACGGTACGGACGTCAATCAAATGCCTAGCGGCTTGTGGTTTCTCCTACGCTCC';\"\n",
    "                                    \"pattern = 'ATTCTGGA';\"\n",
    "                                    \"max_mismatch = 5\"\n",
    "                                    , number =10000)))"
   ]
  },
  {
   "cell_type": "markdown",
   "metadata": {},
   "source": [
    "R/biostrings solution from rosalind site"
   ]
  },
  {
   "cell_type": "code",
   "execution_count": null,
   "metadata": {
    "collapsed": true
   },
   "outputs": [],
   "source": [
    "library(Biostrings);\n",
    "data <- readLines(\"input.txt\");\n",
    "pattern <- data[1];\n",
    "text <- data[2];\n",
    "mismatches <- as.numeric(data[3]);\n",
    "cat(as.matrix(ranges(matchPattern(pattern,text, max.mismatch=mismatches)))[,1]-1,fill=TRUE);"
   ]
  },
  {
   "cell_type": "markdown",
   "metadata": {},
   "source": [
    "## Find the Most Frequent Words with Mismatches in a String\n",
    "\n",
    "*Given: A string Text as well as integers k and d.*\n",
    "\n",
    "*Return: All most frequent k-mers with up to d mismatches in Text.*"
   ]
  },
  {
   "cell_type": "code",
   "execution_count": null,
   "metadata": {
    "collapsed": true
   },
   "outputs": [],
   "source": [
    "open_input = open('pattern_count_input.txt')\n",
    "text = open_input.read().rstrip().replace(\" \", \"\")\n",
    "len_kmer = 4\n",
    "max_mismatch = 1\n",
    "\n",
    "import itertools\n",
    "\n",
    "def mismatch (string1, string2):\n",
    "    mismatches = 0\n",
    "    for (nucleotide1, nucleotide2) in zip(string1, string2):\n",
    "        if nucleotide1 != nucleotide2:\n",
    "            mismatches += 1\n",
    "    return(mismatches)\n",
    "\n",
    "def frequent_kmers(text, len_kmer):\n",
    "    frequent_kmer = []\n",
    "    dict_combinations = {}\n",
    "    for product in itertools.product(['A','T','C','G'], repeat=len_kmer):\n",
    "        dict_combinations[\"\".join(product)] = 1\n",
    "    for i in range(len(text)-len_kmer+1):\n",
    "        pattern = text[i:i+len_kmer]\n",
    "        for k, v in dict_combinations.items():\n",
    "            if mismatch(pattern, k) <= max_mismatch:\n",
    "                dict_combinations[k] += 1\n",
    "    for key, value in dict_combinations.items():\n",
    "        max_value = dict_combinations.get(max(dict_combinations, key=dict_combinations.get))\n",
    "        if value == max_value:\n",
    "            frequent_kmer.append(key)\n",
    "    return frequent_kmer\n",
    "print (frequent_kmers(text, len_kmer))"
   ]
  },
  {
   "cell_type": "markdown",
   "metadata": {},
   "source": [
    "## Find Frequent Words with Mismatches and Reverse Complements\n",
    "\n",
    "*Given: A DNA string Text as well as integers k and d.*\n",
    "\n",
    "*Return: All k-mers Pattern maximizing the sum Countd(Text, Pattern) + Countd(Text, Pattern) over all possible k-mers.*"
   ]
  },
  {
   "cell_type": "code",
   "execution_count": null,
   "metadata": {
    "collapsed": true
   },
   "outputs": [],
   "source": [
    "open_input = open('pattern_count_input.txt')\n",
    "text = open_input.read().rstrip().replace(\" \", \"\")\n",
    "len_kmer = 7\n",
    "max_mismatch = 3\n",
    "\n",
    "import itertools\n",
    "from timeit import timeit\n",
    "\n",
    "def mismatch (string1, string2):\n",
    "    mismatches = 0\n",
    "    for (nucleotide1, nucleotide2) in zip(string1, string2):\n",
    "        if nucleotide1 != nucleotide2:\n",
    "            mismatches += 1\n",
    "    return(mismatches)\n",
    "\n",
    "def reverse_complement_four(text):\n",
    "    text = text[::-1].upper().replace(' ','')\n",
    "    reverse_complement_text = text.translate(str.maketrans('ACGT','TGCA'))\n",
    "    return reverse_complement_text\n",
    "\n",
    "def frequent_kmers(text, len_kmer):\n",
    "    frequent_kmer = []\n",
    "    dict_combinations = {}\n",
    "    for product in itertools.product(['A','T','C','G'], repeat=len_kmer):\n",
    "        dict_combinations[\"\".join(product)] = 1\n",
    "    for i in range(len(text)-len_kmer+1):\n",
    "        pattern = text[i:i+len_kmer]\n",
    "        rc_pattern = reverse_complement_four(pattern)\n",
    "        for k, v in dict_combinations.items():\n",
    "            if mismatch(pattern, k) <= max_mismatch:\n",
    "                dict_combinations[k] += 1\n",
    "            if mismatch(rc_pattern, k) <= max_mismatch:\n",
    "                dict_combinations[k] += 1\n",
    "    for key, value in dict_combinations.items():\n",
    "        max_value = dict_combinations.get(max(dict_combinations, key=dict_combinations.get))\n",
    "        if value == max_value:\n",
    "            frequent_kmer.append(key)\n",
    "    return frequent_kmer\n",
    "print (frequent_kmers(text, len_kmer))"
   ]
  },
  {
   "cell_type": "markdown",
   "metadata": {},
   "source": [
    "## Implement PatternToNumber\n",
    "\n",
    "*Given: A DNA string Pattern.*\n",
    "\n",
    "*Return: PatternToNumber(Pattern).*"
   ]
  },
  {
   "cell_type": "code",
   "execution_count": null,
   "metadata": {
    "collapsed": true
   },
   "outputs": [],
   "source": [
    "open_input = open('pattern_count_input.txt')\n",
    "text = open_input.read().rstrip().replace(\" \", \"\")\n",
    "len_kmer = 7\n",
    "max_mismatch = 3\n",
    "k = 2\n",
    "pattern = 'AGT'\n",
    "\n",
    "import itertools\n",
    "from timeit import timeit\n",
    "def symbol_to_number(symbol):\n",
    "    dict_symbol = {'A':0, 'C':1, 'G':2, 'T':3}\n",
    "    return dict_symbol[symbol]\n",
    "\n",
    "def pattern_to_number(pattern):\n",
    "    if not pattern:\n",
    "        return 0\n",
    "    symbol = pattern[-1]\n",
    "    prefix = pattern[0:-1]\n",
    "    return 4*pattern_to_number(prefix) + symbol_to_number(symbol)\n",
    "\n",
    "print(pattern_to_number(pattern))\n",
    "# pattern_to_number (pattern):1.215484529006062\n",
    "\n",
    "def pattern_to_number_two (pattern):\n",
    "    s = pattern\n",
    "    m = { \"A\" : \"00\", \"C\" : \"01\", \"G\" : \"10\", \"T\" : \"11\" }\n",
    "    return int(\"\".join([m[c] for c in s]), 2)\n",
    "print(pattern_to_number_two(pattern))\n",
    "#pattern_to_number_two(pattern):0.5483961829959298\n",
    "\n",
    "def patternToNumber (pattern):\n",
    "    letter_value = {'A':0, 'C':1, 'G':2, 'T':3}\n",
    "    total = 0\n",
    "    for i in range(len(pattern)):\n",
    "        ## grab the letters from the rear ([-(i+1)]) for increasing i's and \n",
    "        ## multiply it's value by the position it's in\n",
    "        total += letter_value[pattern[-(i+1)]] * len(letter_value)**(i)\n",
    "    return total\n",
    "#patternToNumber(pattern):1.1557979640056146\n",
    "\n",
    "def patternToNumber2(dna):\n",
    "    crumb = dict(zip('ACGT', '0123'))\n",
    "    return int(\"\".join(crumb[i] for i in dna), 4)\n",
    "#patternToNumber2(pattern):0.9234875129986904\n",
    "\n",
    "print (\"pattern_to_number (pattern):{}\".format(timeit(\n",
    "                                    \"pattern_to_number (pattern)\",\n",
    "                                    \"from __main__ import pattern_to_number;\"\n",
    "                                    \"pattern = 'ATTCTGGA';\"\n",
    "                                    , number =100000)))\n",
    "\n",
    "print (\"pattern_to_number_two(pattern):{}\".format(timeit(\n",
    "                                    \"pattern_to_number_two(pattern)\",\n",
    "                                    \"from __main__ import pattern_to_number_two;\"\n",
    "                                    \"pattern = 'ATTCTGGA';\"\n",
    "                                    , number =100000)))\n",
    "\n",
    "print (\"patternToNumber(pattern):{}\".format(timeit(\n",
    "                                    \"patternToNumber(pattern)\",\n",
    "                                    \"from __main__ import patternToNumber;\"\n",
    "                                    \"pattern = 'ATTCTGGA';\"\n",
    "                                    , number =100000)))\n",
    "\n",
    "print (\"patternToNumber2(pattern):{}\".format(timeit(\n",
    "                                    \"patternToNumber2(pattern)\",\n",
    "                                    \"from __main__ import patternToNumber2;\"\n",
    "                                    \"pattern = 'ATTCTGGA';\"\n",
    "                                    , number =100000)))"
   ]
  },
  {
   "cell_type": "markdown",
   "metadata": {},
   "source": [
    "Using R from Rosalind Site\t"
   ]
  },
  {
   "cell_type": "code",
   "execution_count": null,
   "metadata": {
    "collapsed": true
   },
   "outputs": [],
   "source": [
    "pattern <- readLines(\"input.txt\");\n",
    "encoded <- unlist(list(A=0,C=1,G=2,T=3))[unlist(strsplit(pattern,\"\"))];\n",
    "sum(encoded * 4^((length(encoded)-1):0));"
   ]
  },
  {
   "cell_type": "markdown",
   "metadata": {},
   "source": [
    "## Implement NumberToPattern\n",
    "\n",
    "*Given: Integers index and k.*\n",
    "\n",
    "*Return: NumberToPattern(index, k).*"
   ]
  },
  {
   "cell_type": "code",
   "execution_count": null,
   "metadata": {
    "collapsed": true
   },
   "outputs": [],
   "source": [
    "number = 7107\n",
    "len_pattern = 9\n",
    "\n",
    "from timeit import timeit\n",
    "\n",
    "def number_to_symbol(symbol):\n",
    "    dict_symbol = {0:'A', 1:'C', 2:'G', 3:'T'}\n",
    "    return dict_symbol[symbol]\n",
    "\n",
    "def remainder_symbol(div):\n",
    "    remainder = int(str(div).split('.')[1])\n",
    "    dict_remainder = {0:'A', 25:'C', 5:'G', 75:'T'}\n",
    "    last_symbol = dict_remainder[remainder]\n",
    "    return last_symbol\n",
    "\n",
    "def number_to_pattern(number, len_pattern):\n",
    "    sequence = ''\n",
    "    for len in range(len_pattern,0,-1):\n",
    "        if len == 0:\n",
    "            first_symbol = number_to_symbol(number)\n",
    "            sequence += first_symbol\n",
    "        else:\n",
    "            div = number/4\n",
    "            symbol = remainder_symbol(div)\n",
    "            sequence += symbol\n",
    "            len_pattern -= 1\n",
    "            number = int(str(div).split('.')[0])\n",
    "    return sequence[::-1]\n",
    "print(number_to_pattern(number, len_pattern))\n",
    "#number_to_pattern(number, len_pattern):8.712004325992893\n",
    "\n",
    "\n",
    "def numberToPattern (number, length):\n",
    "    letter_value = {0: 'A', 1: 'C', 2: 'G', 3: 'T'}\n",
    "    sequence = ''\n",
    "    for i in range(length):\n",
    "        ## take the remainder after dividing by 4, convert it to a base and prepend to sequence\n",
    "        sequence = letter_value[number % 4] + sequence\n",
    "        ## now do a floor division to get ready for the next base\n",
    "        number = number // 4\n",
    "    return sequence\n",
    "print(numberToPattern(number, len_pattern))\n",
    "#numberToPattern(number, len_pattern):0.7155352020054124\n",
    "\n",
    "\n",
    "print (\"number_to_pattern(number, len_pattern):{}\".format(timeit(\n",
    "                                    \"number_to_pattern(number, len_pattern)\",\n",
    "                                    \"from __main__ import number_to_pattern;\"\n",
    "                                    \"number = 7187;\"\n",
    "                                    \"len_pattern = 9;\"\n",
    "                                    , number =100000)))\n",
    "\n",
    "print (\"numberToPattern(number, len_pattern):{}\".format(timeit(\n",
    "                                    \"numberToPattern(number, len_pattern)\",\n",
    "                                    \"from __main__ import numberToPattern;\"\n",
    "                                    \"number = 7187;\"\n",
    "                                    \"len_pattern = 9;\"\n",
    "                                    , number =100000)))"
   ]
  },
  {
   "cell_type": "code",
   "execution_count": null,
   "metadata": {
    "collapsed": true
   },
   "outputs": [],
   "source": []
  }
 ],
 "metadata": {
  "kernelspec": {
   "display_name": "Python [Root]",
   "language": "python",
   "name": "Python [Root]"
  },
  "language_info": {
   "codemirror_mode": {
    "name": "ipython",
    "version": 3
   },
   "file_extension": ".py",
   "mimetype": "text/x-python",
   "name": "python",
   "nbconvert_exporter": "python",
   "pygments_lexer": "ipython3",
   "version": "3.5.2"
  }
 },
 "nbformat": 4,
 "nbformat_minor": 0
}

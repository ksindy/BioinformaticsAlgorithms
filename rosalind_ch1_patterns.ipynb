{
 "cells": [
  {
   "cell_type": "markdown",
   "metadata": {},
   "source": [
    "## BA1A Compute the Number of Times a Pattern Appears in a Text\n",
    "\n",
    "*Given: {DNA strings}} Text and Pattern.*\n",
    "\n",
    "*Return: Count(Text, Pattern).*"
   ]
  },
  {
   "cell_type": "code",
   "execution_count": 1,
   "metadata": {},
   "outputs": [],
   "source": [
    "open_input = open('pattern_count_input.txt')\n",
    "text = open_input.read().rstrip().replace(\" \", \"\")\n",
    "pattern = \"CGGCGGGAGAT\"\n",
    "\n",
    "from timeit import timeit\n",
    "\n",
    "def pattern_count_one(text, pattern):\n",
    "    count = 0\n",
    "    for i, nucleotide in enumerate(text):\n",
    "        if text[i:i+len(pattern)] == pattern:\n",
    "            count += 1\n",
    "    return (count)\n",
    "#pattern_count_one:47.08834998100065\n",
    "#3\n",
    "\n",
    "def pattern_count_two(text, pattern):\n",
    "    return (text.count(pattern))\n",
    "#pattern_count_two:0.8119574589945842\n",
    "#3\n",
    "\n",
    "print (\"pattern_count_one:{}\".format(timeit(\n",
    "                                    \"pattern_count_one(text, pattern)\",\n",
    "                                    \"from __main__ import pattern_count_one;\"\n",
    "                                    \"text='TGATTCCGGCGGGCGTGGAGAAGCGAGATTCATTCAAGCCGGGAGGCGTGGCGTGGCGTGGCGTGCGGATTCAAGCCGGCGGG';\" \n",
    "                                    \"pattern='TTCCGG' \")))\n",
    "\n",
    "print (\"pattern_count_two:{}\".format(timeit(\n",
    "                                    \"pattern_count_two(text, pattern)\",\n",
    "                                    \"from __main__ import pattern_count_two;\"\n",
    "                                    \"text='TGATTCCGGCGGGCGTGGAGAAGCGAGATTCATTCAAGCCGGGAGGCGTGGCGTGGCGTGGCGTGCGGATTCAAGCCGGCGGG';\"\n",
    "                                    \"pattern='TTCCGG' \")))"
   ]
  },
  {
   "cell_type": "markdown",
   "metadata": {},
   "source": [
    "## BA1B Find the Most Frequent k-mers in a String\n",
    "\n",
    "*Find the most frequent k-mers in a string.*\n",
    "\n",
    "*Given: A DNA string Text and an integer k.*\n",
    "\n",
    "*Return: All most frequent k-mers in Text (in any order).*"
   ]
  },
  {
   "cell_type": "code",
   "execution_count": 3,
   "metadata": {},
   "outputs": [],
   "source": [
    "open_input = open('pattern_count_input.txt')\n",
    "text = open_input.read().rstrip().replace(\" \", \"\")\n",
    "len_kmer = 12\n",
    "\n",
    "def frequent_kmers(text, len_kmer):\n",
    "    dict_kmer = {}\n",
    "    most_frequent_kmers = []\n",
    "    for i, nucleotide in enumerate(text):\n",
    "    #this loop will define kmer\n",
    "    #i = 0, then +1 until last possible kmer can be made (length of text - length of kmer)\n",
    "        kmer = ((text[i:i+len_kmer]))\n",
    "        if not kmer in dict_kmer:\n",
    "            dict_kmer[kmer] = 1\n",
    "        else:\n",
    "            dict_kmer[kmer] += 1\n",
    "    for key, value in dict_kmer.items():\n",
    "       max_value = dict_kmer.get(max(dict_kmer, key=dict_kmer.get))\n",
    "       if value == max_value:\n",
    "            most_frequent_kmers.append(key)\n",
    "    return (most_frequent_kmers)\n",
    "\n",
    "frequent_kmers(text, len_kmer)"
   ]
  },
  {
   "cell_type": "markdown",
   "metadata": {},
   "source": [
    "## Problem ID: BA1C Find the Reverse Complement of a String"
   ]
  },
  {
   "cell_type": "code",
   "execution_count": null,
   "metadata": {},
   "outputs": [],
   "source": [
    "open_input = open('pattern_count_input.txt')\n",
    "text = open_input.read().rstrip().replace(\" \", \"\")\n",
    "from timeit import timeit\n",
    "from Bio.Seq import Seq\n",
    "\n",
    "def reverse_complement_one(text):\n",
    "    text = text.upper().replace(' ','')\n",
    "    dict_basepair = {'G':'C', 'C':'G', 'A':'T', 'T':'A'}\n",
    "    reverse_complement_string = ''\n",
    "    for i, nucleotide in enumerate(text):\n",
    "        basepair = (text[((i+1)*-1)+len(text)])\n",
    "        if dict_basepair.get(basepair):\n",
    "            reverse_complement_string += dict_basepair.get(basepair)\n",
    "    return(reverse_complement_string)\n",
    "\n",
    "def reverse_complement_two(text):\n",
    "    text = text.upper().replace(' ','')\n",
    "    dict_basepair = {'G':'C', 'C':'G', 'A':'T', 'T':'A'}\n",
    "    reverse = (text[::-1])\n",
    "    reverse_complement_string = ''\n",
    "    for i in reverse:\n",
    "        if dict_basepair.get(i):\n",
    "            reverse_complement_string += dict_basepair.get(i)\n",
    "    return(reverse_complement_string)\n",
    "\n",
    "def reverse_complement_three(text):\n",
    "    text = text.upper().replace(' ','')\n",
    "    dict_basepair = {'G':'C', 'C':'G', 'A':'T', 'T':'A'}\n",
    "    reverse_complement_string = ''\n",
    "    for nucleotide in reversed(text):\n",
    "        if dict_basepair.get(nucleotide):\n",
    "            reverse_complement_string += dict_basepair.get(nucleotide)\n",
    "    return (reverse_complement_string)\n",
    "\n",
    "def reverse_complement_four(text):\n",
    "    text = text[::-1].upper().replace(' ','')\n",
    "    reverse_complement_text = text.translate(str.maketrans('ACGT','TGCA'))\n",
    "    return reverse_complement_text\n",
    "\n",
    "\n",
    "def reverse_complement_biopython(text):\n",
    "    sequence = Seq(text)\n",
    "    reverse_complement_sequence = Seq.reverse_complement(sequence)\n",
    "    return(reverse_complement_sequence)\n",
    "\n",
    "\n",
    "\n",
    "print (\"reverse_complement_one:{}\".format(timeit(\n",
    "                                    \"reverse_complement_one(text)\",\n",
    "                                    \"from __main__ import reverse_complement_one;\"\n",
    "                                    \"text='A@GG GTTAG--TGACCAGCT! AG'\")))\n",
    "print (\"reverse_complement_two:{}\".format(timeit(\n",
    "                                    \"reverse_complement_two(text)\",\n",
    "                                    \"from __main__ import reverse_complement_two;\"\n",
    "                                    \"text = 'A@GG GTTAG--TGACCAGCT! AG'\")))\n",
    "print (\"reverse_complement_three:{}\".format(timeit(\n",
    "                                    \"reverse_complement_three(text)\",\n",
    "                                    \"from __main__ import reverse_complement_three;\"\n",
    "                                    \"text = 'A@GG GTTAG--TGACCAGCT! AG'\")))\n",
    "print (\"reverse_complement_four:{}\".format(timeit(\n",
    "                                    \"reverse_complement_four(text)\",\n",
    "                                    \"from __main__ import reverse_complement_four;\"\n",
    "                                    \"text = 'A@GG GTTAG--TGACCAGCT! AG'\")))\n",
    "print (\"reverse_complement_biopython:{}\".format(timeit(\n",
    "                                    \"reverse_complement_biopython(text)\",\n",
    "                                    \"from __main__ import reverse_complement_biopython;\"\n",
    "                                    \"text = 'A@GG GTTAG--TGACCAGCT! AG'\")))\n",
    "\n",
    "\n",
    "print(reverse_complement_one(text))\n",
    "print(reverse_complement_two(text))\n",
    "print(reverse_complement_three(text))\n",
    "print(reverse_complement_four(text))\n",
    "print(reverse_complement_biopython(text))"
   ]
  },
  {
   "cell_type": "markdown",
   "metadata": {},
   "source": [
    "'extended slice' syntax <text[::-1]> returns the input in reverse. "
   ]
  },
  {
   "cell_type": "markdown",
   "metadata": {},
   "source": [
    "## BA1D Find All Occurrences of a Pattern in a String\n",
    "\n",
    "*Given: Strings Pattern and Genome.*\n",
    "\n",
    "*Return: All starting positions in Genome where Pattern appears as a substring. Use 0-based indexing.*\n"
   ]
  },
  {
   "cell_type": "code",
   "execution_count": 1,
   "metadata": {},
   "outputs": [
    {
     "data": {
      "text/plain": [
       "['25', '130', '210', '333']"
      ]
     },
     "execution_count": 1,
     "output_type": "execute_result",
     "metadata": {}
    }
   ],
   "source": [
    "open_input = open('pattern_count_input.txt')\n",
    "text = open_input.read().rstrip().replace(\" \", \"\")\n",
    "pattern = \"CGGCGGGAGAT\"\n",
    "\n",
    "from timeit import timeit\n",
    "import re\n",
    "\n",
    "\n",
    "def pattern_find_one(text, pattern):\n",
    "    list = []\n",
    "    for i, nucleotide in enumerate(text):\n",
    "        if text[i:i+len(pattern)] == pattern:\n",
    "            list.append(i)\n",
    "    return (list)\n",
    "# pattern_find_one:41.1288166979939\n",
    "# [215, 257, 361]\n",
    "\n",
    "\n",
    "def pattern_find_two(text,pattern):\n",
    "    matches = re.finditer('(?={0})'.format(pattern),text)\n",
    "    positions = [str(match.start()) for match in matches]\n",
    "    result = ' '.join(positions)\n",
    "    return(result)\n",
    "#pattern_find_two:15.497524202990462\n",
    "#215 257 361\n",
    "\n",
    "\n",
    "def pattern_find_three(text,pattern):\n",
    "    results = []\n",
    "    regex_pattern = re.compile('(?={0})'.format(pattern))\n",
    "    matches = regex_pattern.finditer(text)\n",
    "    for match in matches:\n",
    "        results.append(match.start())\n",
    "    return(results)\n",
    "# pattern_find_three:11.731942209997214\n",
    "# [215, 257, 361]\n",
    "\n",
    "\n",
    "print (\"pattern_find_one:{}\".format(timeit(\n",
    "                                    \"pattern_find_one(text, pattern)\",\n",
    "                                    \"from __main__ import pattern_find_one;\"\n",
    "                                    \"text='TGATTCCGGCGGGCGTGGAGAAGCGAGATTCATTCAAGCCGGGAGGCGTGGCGTGGCGTGGCGTGCGGATTCAAGCCGGCGGG';\"\n",
    "                                    \"pattern='TTCCGG' \")))\n",
    "\n",
    "print (\"pattern_find_two:{}\".format(timeit(\n",
    "                                    \"pattern_find_two(text, pattern)\",\n",
    "                                    \"from __main__ import pattern_find_two;\"\n",
    "                                    \"text='TGATTCCGGCGGGCGTGGAGAAGCGAGATTCATTCAAGCCGGGAGGCGTGGCGTGGCGTGGCGTGCGGATTCAAGCCGGCGGG';\"\n",
    "                                    \"pattern='TTCCGG' \")))\n",
    "\n",
    "print (\"pattern_find_three:{}\".format(timeit(\n",
    "                                    \"pattern_find_three(text, pattern)\",\n",
    "                                    \"from __main__ import pattern_find_three;\"\n",
    "                                    \"text='TGATTCCGGCGGGCGTGGAGAAGCGAGATTCATTCAAGCCGGGAGGCGTGGCGTGGCGTGGCGTGCGGATTCAAGCCGGCGGG';\"\n",
    "                                    \"pattern='TTCCGG' \")))"
   ]
  },
  {
   "cell_type": "markdown",
   "metadata": {},
   "source": [
    "## Problem ID: BA1E Find Patterns Forming Clumps in a String\n",
    "\n",
    "*Given: A string Genome, and integers k, L, and t.*\n",
    "\n",
    "*Return: All distinct k-mers forming (L, t)-clumps in Genome.*"
   ]
  },
  {
   "cell_type": "code",
   "execution_count": 1,
   "metadata": {},
   "outputs": [],
   "source": [
    "open_genome = open('genome.txt')\n",
    "genome = open_genome.read().rstrip().replace(\" \", \"\")\n",
    "\n",
    "def ClumpFinding (genome, k, L, t):\n",
    "    dict_kmer = {}\n",
    "    \n",
    "    for i in range((L)-(k-1)):\n",
    "        kmer = ((genome[i:i+k]))\n",
    "        if kmer not in dict_kmer:\n",
    "            dict_kmer[kmer] = 1\n",
    "        else:\n",
    "            dict_kmer[kmer] += 1\n",
    "    matches = ([key for key,value in dict_kmer.items() if value >= t])\n",
    "    x = set(matches)\n",
    "    \n",
    "    for i in range(len(genome)-(L+1)):\n",
    "        first_kmer = genome[i+1:i+1+k]\n",
    "        if first_kmer in dict_kmer:\n",
    "            dict_kmer[first_kmer] -= 1\n",
    "        last_kmer = genome[i+(L-k):i+(L)]\n",
    "        if last_kmer not in dict_kmer:\n",
    "            dict_kmer[last_kmer] = 1\n",
    "        else:\n",
    "            dict_kmer[last_kmer] += 1\n",
    "            matches = ([key for key,value in dict_kmer.items() if value >= t])\n",
    "            x.update(matches)\n",
    "    \n",
    "    return(x)\n",
    "\n",
    "ClumpFinding(genome, 12, 497, 19)"
   ]
  },
  {
   "cell_type": "code",
   "execution_count": null,
   "metadata": {},
   "outputs": [],
   "source": [
    ""
   ]
  },
  {
   "cell_type": "code",
   "execution_count": null,
   "metadata": {},
   "outputs": [],
   "source": [
    ""
   ]
  }
 ],
 "metadata": {
  "kernelspec": {
   "display_name": "Python 3",
   "language": "python",
   "name": "python3"
  },
  "language_info": {
   "codemirror_mode": {
    "name": "ipython",
    "version": 3.0
   },
   "file_extension": ".py",
   "mimetype": "text/x-python",
   "name": "python",
   "nbconvert_exporter": "python",
   "pygments_lexer": "ipython3",
   "version": "3.5.1"
  }
 },
 "nbformat": 4,
 "nbformat_minor": 0
}
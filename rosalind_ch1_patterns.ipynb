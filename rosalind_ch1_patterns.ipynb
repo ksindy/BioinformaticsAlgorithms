{
 "cells": [
  {
   "cell_type": "markdown",
   "metadata": {},
   "source": [
    "## BA1A Compute the Number of Times a Pattern Appears in a Text\n",
    "\n",
    "*Given: {DNA strings}} Text and Pattern.*\n",
    "\n",
    "*Return: Count(Text, Pattern).*"
   ]
  },
  {
   "cell_type": "code",
   "execution_count": 1,
   "metadata": {},
   "outputs": [
    {
     "data": {
      "text/plain": [
       "3"
      ]
     },
     "execution_count": 1,
     "output_type": "execute_result",
     "metadata": {}
    }
   ],
   "source": [
    "open_input = open('pattern_count_input.txt')\n",
    "text = open_input.read().rstrip().replace(\" \", \"\")\n",
    "pattern = \"CGGCGGGAGATT\"\n",
    "\n",
    "def pattern_count(text, pattern):\n",
    "    count = 0\n",
    "    for i, nucleotide in enumerate(text):\n",
    "        if text[i:i+len(pattern)] == pattern:\n",
    "            count += 1\n",
    "    return (count)\n",
    "\n",
    "pattern_count(text, pattern)"
   ]
  },
  {
   "cell_type": "markdown",
   "metadata": {},
   "source": [
    "## BA1B Find the Most Frequent k-mers in a String\n",
    "\n",
    "*Find the most frequent k-mers in a string.*\n",
    "\n",
    "*Given: A DNA string Text and an integer k.*\n",
    "\n",
    "*Return: All most frequent k-mers in Text (in any order).*"
   ]
  },
  {
   "cell_type": "code",
   "execution_count": 3,
   "metadata": {},
   "outputs": [
    {
     "data": {
      "text/plain": [
       "['GGCGGGAGATTC',\n 'GCGTGCGGCGGG',\n 'GGAGATTCAAGC',\n 'CGTGGCGTGCGG',\n 'GCGTGGAGGCGT',\n 'GCGTGGCGTGCG',\n 'TGCGGCGGGAGA',\n 'GGAGAAGCGAGA',\n 'GTGCGGCGGGAG',\n 'CGTGGAGGCGTG',\n 'CGTGCGGCGGGA',\n 'GGGAGATTCAAG',\n 'CGGGAGATTCAA',\n 'CGGCGGGAGATT']"
      ]
     },
     "execution_count": 3,
     "output_type": "execute_result",
     "metadata": {}
    }
   ],
   "source": [
    "open_input = open('pattern_count_input.txt')\n",
    "text = open_input.read().rstrip().replace(\" \", \"\")\n",
    "len_kmer = 12\n",
    "\n",
    "def frequent_kmers(text, len_kmer):\n",
    "    dict_kmer = {}\n",
    "    most_frequent_kmers = []\n",
    "    for i, nucleotide in enumerate(text):\n",
    "    #this loop will define kmer\n",
    "    #i = 0, then +1 until last possible kmer can be made (length of text - length of kmer)\n",
    "        kmer = ((text[i:i+len_kmer]))\n",
    "        if not kmer in dict_kmer:\n",
    "            dict_kmer[kmer] = 1\n",
    "        else:\n",
    "            dict_kmer[kmer] += 1\n",
    "    for key, value in dict_kmer.items():\n",
    "       max_value = dict_kmer.get(max(dict_kmer, key=dict_kmer.get))\n",
    "       if value == max_value:\n",
    "            most_frequent_kmers.append(key)\n",
    "    return (most_frequent_kmers)\n",
    "\n",
    "frequent_kmers(text, len_kmer)"
   ]
  },
  {
   "cell_type": "markdown",
   "metadata": {},
   "source": [
    "## Problem ID: BA1C Find the Reverse Complement of a String"
   ]
  },
  {
   "cell_type": "code",
   "execution_count": 2,
   "metadata": {},
   "outputs": [
    {
     "data": {
      "text/plain": [
       "'CCGCTCGCTTCCGCACGCCCGCTCGAATCACGCGCTTGCTTCTCCCGCCGCACGCCACGCGCTTGCTTGCTTGCTTCACGCCTCCTCGCTTGAATCTCCCGCCGCACGCGAATGCTTGAATCTCCCGGAATCACGCGAATGCTTCTCCTCCTCGCTTCCGCACGCGCTTCTCGCTTCTCCACGCGAATCCGGCTTGAATCTCCCGCCGCACGCCTCCACGCCTCCACGCCTCCACGCGAATCTCCCGCCGGAATGCTTGCTTGAATCCGGCTTCTCGCTTCTCCTCCCGCACGCCACGCCTCCTCCACGCGCTTCACGCCCGCACGCCCGGAATCTCGAATCCGCCGCTCGAATCACGCCCGCCGGCTTGAATCCGCACGCCACGCCACGCCACGCCTCCCGGCTTGAATGAATCTCGCTTCTCCACGCCCGCCGGAATCACGCCACGCGAATCTCGCTTCCG'"
      ]
     },
     "execution_count": 2,
     "output_type": "execute_result",
     "metadata": {}
    }
   ],
   "source": [
    "open_input = open('pattern_count_input.txt')\n",
    "text = open_input.read().rstrip().replace(\" \", \"\")\n",
    "\n",
    "def reverse_compliment(text):\n",
    "    dict_basepair = {'G':'C', 'C':'G', 'A':'T', 'T':'A'}\n",
    "    reverse_compliment = []\n",
    "    \n",
    "    for i, nucleotide in enumerate(text):\n",
    "        basepair = (text[((i+1)*-1)+len(text)])\n",
    "        reverse_compliment.extend(dict_basepair.get(basepair))\n",
    "    return(''.join(reverse_compliment))\n",
    "\n",
    "reverse_compliment(text)"
   ]
  },
  {
   "cell_type": "markdown",
   "metadata": {},
   "source": [
    "'extended slice' syntax <text[::-1]> returns the input in reverse. "
   ]
  },
  {
   "cell_type": "code",
   "execution_count": 1,
   "metadata": {},
   "outputs": [
    {
     "data": {
      "text/plain": [
       "'CCGCTCGCTTCCGCACGCCCGCTCGAATCACGCGCTTGCTTCTCCCGCCGCACGCCACGCGCTTGCTTGCTTGCTTCACGCCTCCTCGCTTGAATCTCCCGCCGCACGCGAATGCTTGAATCTCCCGGAATCACGCGAATGCTTCTCCTCCTCGCTTCCGCACGCGCTTCTCGCTTCTCCACGCGAATCCGGCTTGAATCTCCCGCCGCACGCCTCCACGCCTCCACGCCTCCACGCGAATCTCCCGCCGGAATGCTTGCTTGAATCCGGCTTCTCGCTTCTCCTCCCGCACGCCACGCCTCCTCCACGCGCTTCACGCCCGCACGCCCGGAATCTCGAATCCGCCGCTCGAATCACGCCCGCCGGCTTGAATCCGCACGCCACGCCACGCCACGCCTCCCGGCTTGAATGAATCTCGCTTCTCCACGCCCGCCGGAATCACGCCACGCGAATCTCGCTTCCG'"
      ]
     },
     "execution_count": 1,
     "output_type": "execute_result",
     "metadata": {}
    }
   ],
   "source": [
    "open_input = open('pattern_count_input.txt')\n",
    "text = open_input.read().rstrip().replace(\" \", \"\")\n",
    "\n",
    "\n",
    "def reverse_compliment(text):\n",
    "    dict_basepair = {'G':'C', 'C':'G', 'A':'T', 'T':'A'}\n",
    "    compliment = (text[::-1])\n",
    "    reverse_compliment_text = []\n",
    "    for i in compliment:\n",
    "        nucleotide = (dict_basepair.get(i))\n",
    "        reverse_compliment_text += nucleotide\n",
    "    return(''.join(reverse_compliment_text))\n",
    "\n",
    "reverse_compliment(text)"
   ]
  },
  {
   "cell_type": "markdown",
   "metadata": {},
   "source": [
    "## BA1D Find All Occurrences of a Pattern in a String\n",
    "\n",
    "*Given: Strings Pattern and Genome.*\n",
    "\n",
    "*Return: All starting positions in Genome where Pattern appears as a substring. Use 0-based indexing.*\n"
   ]
  },
  {
   "cell_type": "code",
   "execution_count": 1,
   "metadata": {},
   "outputs": [
    {
     "data": {
      "text/plain": [
       "['25', '130', '210', '333']"
      ]
     },
     "execution_count": 1,
     "output_type": "execute_result",
     "metadata": {}
    }
   ],
   "source": [
    "open_input = open('pattern_count_input.txt')\n",
    "text = open_input.read().rstrip().replace(\" \", \"\")\n",
    "pattern = 'TTCC'\n",
    "\n",
    "def loc_start(text, pattern):\n",
    "    loc_start_sites = []\n",
    "    for i, nucleotide in enumerate(text):\n",
    "        if text[i:i+len(pattern)] == pattern:\n",
    "            matches = str(i)\n",
    "            loc_start_sites.extend((matches,))\n",
    "    return(loc_start_sites)\n",
    "\n",
    "loc_start(text,pattern)"
   ]
  },
  {
   "cell_type": "markdown",
   "metadata": {},
   "source": [
    "## Problem ID: BA1E Find Patterns Forming Clumps in a String\n",
    "\n",
    "*Given: A string Genome, and integers k, L, and t.*\n",
    "\n",
    "*Return: All distinct k-mers forming (L, t)-clumps in Genome.*"
   ]
  },
  {
   "cell_type": "code",
   "execution_count": 1,
   "metadata": {},
   "outputs": [
    {
     "data": {
      "text/plain": [
       "{'GCAGTCGGCCGG',\n 'GGCAGTCGGCCG',\n 'TAAAAATAGCTT',\n 'TCTTATACTATC',\n 'TTCCTGCCTTCC',\n 'TTTCGCACGTTT'}"
      ]
     },
     "execution_count": 1,
     "output_type": "execute_result",
     "metadata": {}
    }
   ],
   "source": [
    "open_genome = open('genome.txt')\n",
    "genome = open_genome.read().rstrip().replace(\" \", \"\")\n",
    "\n",
    "def ClumpFinding (genome, k, L, t):\n",
    "    dict_kmer = {}\n",
    "    \n",
    "    for i in range((L)-(k-1)):\n",
    "        kmer = ((genome[i:i+k]))\n",
    "        if kmer not in dict_kmer:\n",
    "            dict_kmer[kmer] = 1\n",
    "        else:\n",
    "            dict_kmer[kmer] += 1\n",
    "    matches = ([key for key,value in dict_kmer.items() if value >= t])\n",
    "    x = set(matches)\n",
    "    \n",
    "    for i in range(len(genome)-(L+1)):\n",
    "        first_kmer = genome[i+1:i+1+k]\n",
    "        if first_kmer in dict_kmer:\n",
    "            dict_kmer[first_kmer] -= 1\n",
    "        last_kmer = genome[i+(L-k):i+(L)]\n",
    "        if last_kmer not in dict_kmer:\n",
    "            dict_kmer[last_kmer] = 1\n",
    "        else:\n",
    "            dict_kmer[last_kmer] += 1\n",
    "            matches = ([key for key,value in dict_kmer.items() if value >= t])\n",
    "            x.update(matches)\n",
    "    \n",
    "    return(x)\n",
    "\n",
    "ClumpFinding(genome, 12, 497, 19)"
   ]
  },
  {
   "cell_type": "code",
   "execution_count": null,
   "metadata": {},
   "outputs": [],
   "source": [
    ""
   ]
  }
 ],
 "metadata": {
  "kernelspec": {
   "display_name": "Python 3",
   "language": "python",
   "name": "python3"
  },
  "language_info": {
   "codemirror_mode": {
    "name": "ipython",
    "version": 3.0
   },
   "file_extension": ".py",
   "mimetype": "text/x-python",
   "name": "python",
   "nbconvert_exporter": "python",
   "pygments_lexer": "ipython3",
   "version": "3.5.1"
  }
 },
 "nbformat": 4,
 "nbformat_minor": 0
}
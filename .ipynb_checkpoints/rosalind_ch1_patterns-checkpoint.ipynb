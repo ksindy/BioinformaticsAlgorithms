{
 "cells": [
  {
   "cell_type": "markdown",
   "metadata": {},
   "source": [
    "## BA1A Compute the Number of Times a Pattern Appears in a Text\n",
    "\n",
    "*Given: {DNA strings}} Text and Pattern.*\n",
    "\n",
    "*Return: Count(Text, Pattern).*"
   ]
  },
  {
   "cell_type": "code",
   "execution_count": 1,
   "metadata": {
    "collapsed": false
   },
   "outputs": [
    {
     "name": "stdout",
     "output_type": "stream",
     "text": [
      "294\n"
     ]
    }
   ],
   "source": [
    "open_input = open('pattern_count_input.txt')\n",
    "text = open_input.read().rstrip()\n",
    "pattern = \"AGCCTTTAG\"\n",
    "\n",
    "def pattern_count(text, pattern):\n",
    "    count = 0\n",
    "    for i, nucleotide in enumerate(text):\n",
    "        if text[i:i+len(pattern)] == pattern:\n",
    "            count += 1\n",
    "    print (count)\n",
    "\n",
    "\n",
    "pattern_count(text, pattern)"
   ]
  },
  {
   "cell_type": "markdown",
   "metadata": {},
   "source": [
    "## BA1B Find the Most Frequent Words in a String\n",
    "\n",
    "*Find the most frequent k-mers in a string.*\n",
    "\n",
    "*Given: A DNA string Text and an integer k.*\n",
    "\n",
    "*Return: All most frequent k-mers in Text (in any order).*"
   ]
  },
  {
   "cell_type": "code",
   "execution_count": null,
   "metadata": {
    "collapsed": true
   },
   "outputs": [],
   "source": [
    "open_input = open('PatternCountInput')\n",
    "text = open_input.read().rstrip()\n",
    "len_kmer = 14\n",
    "dict_kmer = {}\n",
    "\n",
    "for i in range(len(text)-(len_kmer-1)):\n",
    "#this loop will define kmer\n",
    "#i = 0, then +1 until last possible kmer can be made (length of text - length of kmer)\n",
    "    kmer = ((text[i:i+len_kmer]))\n",
    "    #defines kmer as the string that begins with i and is the length of len_kmer\n",
    "    top_count = 0\n",
    "    for j in range(len(text)-(len_kmer-1)):\n",
    "    #this loop will search the defined kmer in the text\n",
    "        if (str((text[j:j+len_kmer]))) == kmer:\n",
    "            top_count += 1\n",
    "            #adds +1 to top_count if finds a match\n",
    "            dict_kmer[kmer] = top_count\n",
    "            #sets key to kmer and value to top_count in dictionary \n",
    "\n",
    "for key, value in dict_kmer.items():\n",
    "    if value == dict_kmer.get(max(dict_kmer, key=dict_kmer.get)):\n",
    "    #gets all keys from dictionary that have the max value\n",
    "        print (key)"
   ]
  },
  {
   "cell_type": "markdown",
   "metadata": {},
   "source": [
    "Do not need two for loops. Since already looping through text just add to dictionary if not there and +1 if already there. See following code:"
   ]
  },
  {
   "cell_type": "code",
   "execution_count": null,
   "metadata": {
    "collapsed": true
   },
   "outputs": [],
   "source": [
    "open_input = open('PatternCountInput')\n",
    "text = open_input.read().rstrip()\n",
    "len_kmer = 4\n",
    "\n",
    "\n",
    "def FrequentWords(text, len_kmer):\n",
    "    dict_kmer = {}\n",
    "    dict_kmer_match = {}\n",
    "    for i in range(len(text)-(len_kmer-1)):\n",
    "    #this loop will define kmer\n",
    "    #i = 0, then +1 until last possible kmer can be made (length of text - length of kmer)\n",
    "        kmer = ((text[i:i+len_kmer]))\n",
    "        #defines kmer as the string that begins with i and is the length of len_kmer\n",
    "        if kmer not in dict_kmer:\n",
    "            dict_kmer[kmer] = 1\n",
    "        else:\n",
    "            dict_kmer[kmer] += 1\n",
    "    highest = max(dict_kmer.values())\n",
    "    return [key for key,value in dict_kmer.items() if value == highest]\n",
    "\n",
    "print(KmerCount(text,len_kmer))"
   ]
  },
  {
   "cell_type": "markdown",
   "metadata": {},
   "source": [
    "## Problem ID: BA1C Find the Reverse Complement of a String"
   ]
  },
  {
   "cell_type": "code",
   "execution_count": null,
   "metadata": {
    "collapsed": true
   },
   "outputs": [],
   "source": [
    "open_input = open('PatternCountInput')\n",
    "text = open_input.read().rstrip()\n",
    "dict_basepair = {'G':'C', 'C':'G', 'A':'T', 'T':'A'}\n",
    "reverse_compliment = []\n",
    "\n",
    "for i in range(len(text)):\n",
    "    basepair = (text[((i+1)*-1)+len(text)])\n",
    "    reverse_compliment.extend(dict_basepair.get(basepair))\n",
    "print(''.join(reverse_compliment))"
   ]
  },
  {
   "cell_type": "markdown",
   "metadata": {},
   "source": [
    "I saw where someone else solved this problem using this 'extended slice' syntax <text[::-1]> which returns the input in reverse. Nice simple tool so i re-wrote my code:"
   ]
  },
  {
   "cell_type": "code",
   "execution_count": null,
   "metadata": {
    "collapsed": true
   },
   "outputs": [],
   "source": [
    "open_input = open('PatternCountInput')\n",
    "text = open_input.read().rstrip()\n",
    "\n",
    "\n",
    "def ReverseCompliment(text):\n",
    "    dict_basepair = {'G':'C', 'C':'G', 'A':'T', 'T':'A'}\n",
    "    compliment = (text[::-1])\n",
    "    reverse_compliment = []\n",
    "    for i in compliment:\n",
    "        nucleotide = (dict_basepair.get(i))\n",
    "        reverse_compliment += nucleotide\n",
    "    return(''.join(reverse_compliment))\n",
    "\n",
    "print(ReverseCompliment(text))"
   ]
  },
  {
   "cell_type": "markdown",
   "metadata": {},
   "source": [
    "## BA1D Find All Occurrences of a Pattern in a String\n",
    "\n",
    "*Given: Strings Pattern and Genome.*\n",
    "\n",
    "*Return: All starting positions in Genome where Pattern appears as a substring. Use 0-based indexing.*\n"
   ]
  },
  {
   "cell_type": "code",
   "execution_count": null,
   "metadata": {
    "collapsed": true
   },
   "outputs": [],
   "source": [
    "open_input = open('PatternCountInput')\n",
    "text = open_input.read().rstrip()\n",
    "pattern = 'ATAT'\n",
    "\n",
    "def loc_start(text, pattern):\n",
    "    loc_start_sites = []\n",
    "    for i in range(len(text)-(len(pattern))):\n",
    "        if text[i:i+len(pattern)] == pattern:\n",
    "            matches = str(i)\n",
    "            loc_start_sites.extend((matches,))\n",
    "    return(loc_start_sites)\n",
    "\n",
    "\n",
    "print (loc_start(text,pattern))"
   ]
  },
  {
   "cell_type": "markdown",
   "metadata": {},
   "source": [
    "## Problem ID: BA1E Find Patterns Forming Clumps in a String\n",
    "\n",
    "*Given: A string Genome, and integers k, L, and t.*\n",
    "\n",
    "*Return: All distinct k-mers forming (L, t)-clumps in Genome.*"
   ]
  },
  {
   "cell_type": "code",
   "execution_count": null,
   "metadata": {
    "collapsed": true
   },
   "outputs": [],
   "source": [
    "open_genome = open('genome')\n",
    "genome = open_genome.read().rstrip()\n",
    "\n",
    "def ClumpFinding (genome, k, L, t):\n",
    "    dict_kmer = {}\n",
    "    for i in range((L)-(k-1)):\n",
    "        kmer = ((genome[i:i+k]))\n",
    "        if kmer not in dict_kmer:\n",
    "            dict_kmer[kmer] = 1\n",
    "        else:\n",
    "            dict_kmer[kmer] += 1\n",
    "    matches = ([key for key,value in dict_kmer.items() if value >= t])\n",
    "    x = set(matches)\n",
    "    for i in range(len(genome)):\n",
    "        first_kmer = genome[i+1:i+1+k]\n",
    "        if first_kmer in dict_kmer:\n",
    "            dict_kmer[first_kmer] -= 1\n",
    "        last_kmer = genome[i+(L-k):i+(L)]\n",
    "        if last_kmer not in dict_kmer:\n",
    "            dict_kmer[last_kmer] = 1\n",
    "        else:\n",
    "            dict_kmer[last_kmer] += 1\n",
    "            matches = ([key for key,value in dict_kmer.items() if value >= t])\n",
    "            x.update(matches)\n",
    "    return(print(x))\n",
    "\n",
    "\n",
    "ClumpFinding(genome, 12, 497, 19)"
   ]
  }
 ],
 "metadata": {
  "kernelspec": {
   "display_name": "Python 3",
   "language": "python",
   "name": "python3"
  },
  "language_info": {
   "codemirror_mode": {
    "name": "ipython",
    "version": 3
   },
   "file_extension": ".py",
   "mimetype": "text/x-python",
   "name": "python",
   "nbconvert_exporter": "python",
   "pygments_lexer": "ipython3",
   "version": "3.5.1"
  }
 },
 "nbformat": 4,
 "nbformat_minor": 0
}
